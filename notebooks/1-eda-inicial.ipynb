{
 "cells": [
  {
   "cell_type": "code",
   "execution_count": 0,
   "metadata": {
    "application/vnd.databricks.v1+cell": {
     "cellMetadata": {
      "byteLimit": 2048000,
      "rowLimit": 10000
     },
     "inputWidgets": {},
     "nuid": "2ee631dc-a217-47e0-9511-ba76c68f2f34",
     "showTitle": false,
     "tableResultSettingsMap": {},
     "title": ""
    }
   },
   "outputs": [],
   "source": [
    "import pandas as pd\n",
    "import numpy as np\n",
    "import matplotlib.pyplot as plt\n",
    "import seaborn as sns\n",
    "import math"
   ]
  },
  {
   "cell_type": "code",
   "execution_count": 0,
   "metadata": {
    "application/vnd.databricks.v1+cell": {
     "cellMetadata": {
      "byteLimit": 2048000,
      "rowLimit": 10000
     },
     "inputWidgets": {},
     "nuid": "9a373a41-e319-4fad-b99e-a56dba20c1fc",
     "showTitle": false,
     "tableResultSettingsMap": {},
     "title": ""
    }
   },
   "outputs": [],
   "source": [
    "pd.set_option('display.max_colwidth', None)\n",
    "pd.set_option('display.max_rows', None)"
   ]
  },
  {
   "cell_type": "code",
   "execution_count": 0,
   "metadata": {
    "application/vnd.databricks.v1+cell": {
     "cellMetadata": {
      "byteLimit": 2048000,
      "rowLimit": 10000
     },
     "inputWidgets": {},
     "nuid": "1feb6e7e-1b24-435e-88d4-aae9d9162c76",
     "showTitle": false,
     "tableResultSettingsMap": {},
     "title": ""
    }
   },
   "outputs": [],
   "source": [
    "sns.set_style('whitegrid')\n",
    "plt.style.use('seaborn-v0_8-whitegrid')\n",
    "%matplotlib inline"
   ]
  },
  {
   "cell_type": "code",
   "execution_count": 0,
   "metadata": {
    "application/vnd.databricks.v1+cell": {
     "cellMetadata": {
      "byteLimit": 2048000,
      "rowLimit": 10000
     },
     "inputWidgets": {},
     "nuid": "eedaaca7-fdb8-450a-989d-bf3583bbf694",
     "showTitle": false,
     "tableResultSettingsMap": {},
     "title": ""
    }
   },
   "outputs": [],
   "source": [
    "df = pd.read_csv('/Workspace/Users/nagahamasami@gmail.com/creditas-case/data/raw/dataset.csv')\n",
    "df.head()"
   ]
  },
  {
   "cell_type": "code",
   "execution_count": 0,
   "metadata": {
    "application/vnd.databricks.v1+cell": {
     "cellMetadata": {
      "byteLimit": 2048000,
      "rowLimit": 10000
     },
     "inputWidgets": {},
     "nuid": "9aebe8cc-e933-4f6c-ba4b-7ac5b241dd9e",
     "showTitle": false,
     "tableResultSettingsMap": {},
     "title": ""
    }
   },
   "outputs": [],
   "source": [
    "df.tail()"
   ]
  },
  {
   "cell_type": "code",
   "execution_count": 0,
   "metadata": {
    "application/vnd.databricks.v1+cell": {
     "cellMetadata": {
      "byteLimit": 2048000,
      "rowLimit": 10000
     },
     "inputWidgets": {},
     "nuid": "f2c7be07-c66d-4fdb-b1cb-5ee8b3be340b",
     "showTitle": false,
     "tableResultSettingsMap": {},
     "title": ""
    }
   },
   "outputs": [],
   "source": [
    "description = pd.read_csv('/Workspace/Users/nagahamasami@gmail.com/creditas-case/data/raw/description.csv')\n",
    "description"
   ]
  },
  {
   "cell_type": "code",
   "execution_count": 0,
   "metadata": {
    "application/vnd.databricks.v1+cell": {
     "cellMetadata": {
      "byteLimit": 2048000,
      "rowLimit": 10000
     },
     "inputWidgets": {},
     "nuid": "5e34f37c-5f4f-4238-850a-919ece810466",
     "showTitle": false,
     "tableResultSettingsMap": {},
     "title": ""
    }
   },
   "outputs": [],
   "source": [
    "# Visão geral do dataset\n",
    "df.info()"
   ]
  },
  {
   "cell_type": "code",
   "execution_count": 0,
   "metadata": {
    "application/vnd.databricks.v1+cell": {
     "cellMetadata": {
      "byteLimit": 2048000,
      "rowLimit": 10000
     },
     "inputWidgets": {},
     "nuid": "1fdc1781-ec99-420f-a367-299ac9d997ee",
     "showTitle": false,
     "tableResultSettingsMap": {},
     "title": ""
    }
   },
   "outputs": [],
   "source": [
    "# Estatísticas descritivas gerais\n",
    "df.describe().round(2)"
   ]
  },
  {
   "cell_type": "markdown",
   "metadata": {
    "application/vnd.databricks.v1+cell": {
     "cellMetadata": {
      "byteLimit": 2048000,
      "rowLimit": 10000
     },
     "inputWidgets": {},
     "nuid": "d2cd9ee6-889d-4e6b-b447-834a3950794e",
     "showTitle": false,
     "tableResultSettingsMap": {},
     "title": ""
    }
   },
   "source": [
    "# Valores Faltantes"
   ]
  },
  {
   "cell_type": "code",
   "execution_count": 0,
   "metadata": {
    "application/vnd.databricks.v1+cell": {
     "cellMetadata": {
      "byteLimit": 2048000,
      "rowLimit": 10000
     },
     "inputWidgets": {},
     "nuid": "f73b41aa-dff8-4b31-836d-f9b18f559659",
     "showTitle": false,
     "tableResultSettingsMap": {},
     "title": ""
    }
   },
   "outputs": [],
   "source": [
    "# Análise de valores faltantes\n",
    "missing_values = df.isnull().sum()\n",
    "missing_percentage = (missing_values / len(df)) * 100\n",
    "missing_df = pd.DataFrame({'Contagem': missing_values, 'Porcentagem': missing_percentage})\n",
    "missing_df = missing_df[missing_df['Contagem'] > 0].sort_values(by='Porcentagem', ascending=False)\n",
    "print(missing_df)"
   ]
  },
  {
   "cell_type": "code",
   "execution_count": 0,
   "metadata": {
    "application/vnd.databricks.v1+cell": {
     "cellMetadata": {
      "byteLimit": 2048000,
      "rowLimit": 10000
     },
     "inputWidgets": {},
     "nuid": "64e92ee6-b8d5-483a-a88d-2b46dfe7e066",
     "showTitle": false,
     "tableResultSettingsMap": {},
     "title": ""
    }
   },
   "outputs": [],
   "source": [
    "plt.figure(figsize=(12, 8))\n",
    "sns.heatmap(df.isnull(), cbar=False, cmap='viridis')\n",
    "plt.title('Mapa de Calor dos Valores Faltantes')\n",
    "plt.show()"
   ]
  },
  {
   "cell_type": "code",
   "execution_count": 0,
   "metadata": {
    "application/vnd.databricks.v1+cell": {
     "cellMetadata": {
      "byteLimit": 2048000,
      "rowLimit": 10000
     },
     "inputWidgets": {},
     "nuid": "a271a85d-7334-46cb-92e4-de82b31e58f9",
     "showTitle": false,
     "tableResultSettingsMap": {},
     "title": ""
    }
   },
   "outputs": [],
   "source": [
    "plt.figure(figsize=(15, 7))\n",
    "missing_df['Porcentagem'].plot(kind='bar')\n",
    "plt.title('Porcentagem dos Valores Faltantes por Coluna')\n",
    "plt.ylabel('(%)')\n",
    "plt.xlabel('Colunas')\n",
    "plt.xticks(rotation=45, ha='right')\n",
    "plt.tight_layout()\n",
    "plt.show()"
   ]
  },
  {
   "cell_type": "markdown",
   "metadata": {
    "application/vnd.databricks.v1+cell": {
     "cellMetadata": {
      "byteLimit": 2048000,
      "rowLimit": 10000
     },
     "inputWidgets": {},
     "nuid": "0922c2a5-45e4-407b-a353-1c986763e3e9",
     "showTitle": false,
     "tableResultSettingsMap": {},
     "title": ""
    }
   },
   "source": [
    "> Dada a grande falta de valores para loan_term,  marital_status e utm_term, estas colunas podem ser sumariamente descartadas do treinamento do modelo.\n",
    "\n",
    "> A imputação de dados para essas colunas adicionaria ruído e vieses para o conjunto."
   ]
  },
  {
   "cell_type": "markdown",
   "metadata": {
    "application/vnd.databricks.v1+cell": {
     "cellMetadata": {
      "byteLimit": 2048000,
      "rowLimit": 10000
     },
     "inputWidgets": {},
     "nuid": "8e47b0ba-f321-46f1-b2b1-2b4dbd526975",
     "showTitle": false,
     "tableResultSettingsMap": {},
     "title": ""
    }
   },
   "source": [
    "# Sanity Check"
   ]
  },
  {
   "cell_type": "code",
   "execution_count": 0,
   "metadata": {
    "application/vnd.databricks.v1+cell": {
     "cellMetadata": {
      "byteLimit": 2048000,
      "rowLimit": 10000
     },
     "inputWidgets": {},
     "nuid": "62c4b5b2-bc8a-4048-81c5-42d72e1ae97d",
     "showTitle": false,
     "tableResultSettingsMap": {},
     "title": ""
    }
   },
   "outputs": [],
   "source": [
    "min_age, max_age = df['age'].min(), df['age'].max()\n",
    "print(f\"Faixa Etária: Mín={min_age:.1f}, Máx={max_age:.1f}\")\n",
    "if min_age < 18 or max_age > 120:\n",
    "    print(\"Idade fora da faixa esperada de 18-120.\")"
   ]
  },
  {
   "cell_type": "code",
   "execution_count": 0,
   "metadata": {
    "application/vnd.databricks.v1+cell": {
     "cellMetadata": {
      "byteLimit": 2048000,
      "rowLimit": 10000
     },
     "inputWidgets": {},
     "nuid": "ff9e930d-45a1-4991-9ae4-0b96e3ac8df3",
     "showTitle": false,
     "tableResultSettingsMap": {},
     "title": ""
    }
   },
   "outputs": [],
   "source": [
    "financial_cols = ['monthly_income', 'collateral_value', 'loan_amount', 'monthly_payment', 'collateral_debt']\n",
    "for col in financial_cols:\n",
    "    negative_count = (df[col] < 0).sum()\n",
    "    if negative_count > 0:\n",
    "        print(f\"A coluna '{col}' contém {negative_count} valores negativos.\")\n",
    "    else:\n",
    "        print(f\"'{col}' não contém valores negativos.\")"
   ]
  },
  {
   "cell_type": "code",
   "execution_count": 0,
   "metadata": {
    "application/vnd.databricks.v1+cell": {
     "cellMetadata": {
      "byteLimit": 2048000,
      "rowLimit": 10000
     },
     "inputWidgets": {},
     "nuid": "8eec389b-26e1-4a39-a662-13a68ae508fb",
     "showTitle": false,
     "tableResultSettingsMap": {},
     "title": ""
    }
   },
   "outputs": [],
   "source": [
    "min_year, max_year = df['auto_year'].min(), df['auto_year'].max()\n",
    "current_year = pd.to_datetime('today').year\n",
    "print(f\"\\nFaixa de Ano do Veículo: Mín={min_year:.0f}, Máx={max_year:.0f}\")\n",
    "if max_year > current_year + 1:\n",
    "    print(f\"Ano do veículo '{max_year}' está no futuro.\")\n",
    "if min_year < 1950:\n",
    "    print(f\"Ano do veículo '{min_year}' muito antigo.\")"
   ]
  },
  {
   "cell_type": "code",
   "execution_count": 0,
   "metadata": {
    "application/vnd.databricks.v1+cell": {
     "cellMetadata": {
      "byteLimit": 2048000,
      "rowLimit": 10000
     },
     "inputWidgets": {},
     "nuid": "6c92c3e0-a25c-4a82-bf11-c18549f98a6b",
     "showTitle": false,
     "tableResultSettingsMap": {},
     "title": ""
    }
   },
   "outputs": [],
   "source": [
    "inconsistent_funnel = df[(df['sent_to_analysis'] == 1) & (df['pre_approved'] == 0)]\n",
    "if not inconsistent_funnel.empty:\n",
    "    print(f\"Encontrados {len(inconsistent_funnel)} registros em que o cliente foi enviado à análise mas NÃO estava pré-aprovado.\")\n",
    "else:\n",
    "    print(\"Lógica do Funil (sent_to_analysis requer pre_approved).\")"
   ]
  },
  {
   "cell_type": "code",
   "execution_count": 0,
   "metadata": {
    "application/vnd.databricks.v1+cell": {
     "cellMetadata": {
      "byteLimit": 2048000,
      "rowLimit": 10000
     },
     "inputWidgets": {},
     "nuid": "8856112d-3f17-42b3-a86e-da51bce80dfa",
     "showTitle": false,
     "tableResultSettingsMap": {},
     "title": ""
    }
   },
   "outputs": [],
   "source": [
    "impossible_payment = df[df['monthly_payment'] > df['monthly_income']]\n",
    "if not impossible_payment.empty:\n",
    "    print(f\"Encontrados {len(impossible_payment)} registros em que monthly_payment > monthly_income.\")\n",
    "else:\n",
    "    print(\"Lógica Financeira (pagamento < renda): OK.\")"
   ]
  },
  {
   "cell_type": "code",
   "execution_count": 0,
   "metadata": {
    "application/vnd.databricks.v1+cell": {
     "cellMetadata": {
      "byteLimit": 2048000,
      "rowLimit": 10000
     },
     "inputWidgets": {},
     "nuid": "f665a0d3-c438-4454-8fc3-32c261d9e432",
     "showTitle": false,
     "tableResultSettingsMap": {},
     "title": ""
    }
   },
   "outputs": [],
   "source": [
    "impossible_collateral = df[df['collateral_debt'] > df['collateral_value']]\n",
    "if not impossible_collateral.empty:\n",
    "    print(f\"Encontrados {len(impossible_collateral)} registros em que collateral_debt > collateral_value.\")\n",
    "else:\n",
    "    print(\"Lógica de Garantia (dívida <= valor): OK.\")"
   ]
  },
  {
   "cell_type": "code",
   "execution_count": 0,
   "metadata": {
    "application/vnd.databricks.v1+cell": {
     "cellMetadata": {
      "byteLimit": 2048000,
      "rowLimit": 10000
     },
     "inputWidgets": {},
     "nuid": "b624c9c9-fc89-417c-b7df-52c11bde0a16",
     "showTitle": false,
     "tableResultSettingsMap": {},
     "title": ""
    }
   },
   "outputs": [],
   "source": [
    "categorical_cols_check = ['state', 'channel', 'gender', 'education_level']\n",
    "for col in categorical_cols_check:\n",
    "    print(f\"\\nValores únicos para '{col}':\")\n",
    "    print(df[col].dropna().unique())"
   ]
  },
  {
   "cell_type": "code",
   "execution_count": 0,
   "metadata": {
    "application/vnd.databricks.v1+cell": {
     "cellMetadata": {
      "byteLimit": 2048000,
      "rowLimit": 10000
     },
     "inputWidgets": {},
     "nuid": "46abfa4a-0890-4a01-9d33-97b55ab48560",
     "showTitle": false,
     "tableResultSettingsMap": {},
     "title": ""
    }
   },
   "outputs": [],
   "source": [
    "is_id_unique = df['id'].is_unique\n",
    "if is_id_unique:\n",
    "    print(\"Ok.\")\n",
    "else:\n",
    "    duplicate_id_count = df['id'].duplicated().sum()\n",
    "    print(f\"Encontrados {duplicate_id_count} IDs duplicados.\")\n"
   ]
  },
  {
   "cell_type": "markdown",
   "metadata": {
    "application/vnd.databricks.v1+cell": {
     "cellMetadata": {
      "byteLimit": 2048000,
      "rowLimit": 10000
     },
     "inputWidgets": {},
     "nuid": "c307799c-131f-418e-89b4-eaf3662c4a1a",
     "showTitle": false,
     "tableResultSettingsMap": {},
     "title": ""
    }
   },
   "source": [
    "# Análise Univariada"
   ]
  },
  {
   "cell_type": "markdown",
   "metadata": {
    "application/vnd.databricks.v1+cell": {
     "cellMetadata": {
      "byteLimit": 2048000,
      "rowLimit": 10000
     },
     "inputWidgets": {},
     "nuid": "ed038874-3b17-4c20-9741-b82967e39780",
     "showTitle": false,
     "tableResultSettingsMap": {},
     "title": ""
    }
   },
   "source": [
    "## Variáveis Numéricas"
   ]
  },
  {
   "cell_type": "code",
   "execution_count": 0,
   "metadata": {
    "application/vnd.databricks.v1+cell": {
     "cellMetadata": {
      "byteLimit": 2048000,
      "rowLimit": 10000
     },
     "inputWidgets": {},
     "nuid": "541944ad-4bda-405c-94f7-0bc19089ba57",
     "showTitle": false,
     "tableResultSettingsMap": {},
     "title": ""
    }
   },
   "outputs": [],
   "source": [
    "cols_to_plot = [\n",
    "    {'col': 'age', 'title': 'Distribuição da Idade', 'xlabel': 'Idade'},\n",
    "    {'col': 'monthly_income', 'title': 'Distribuição da Renda Mensal', 'xlabel': 'Renda Mensal'},\n",
    "    {'col': 'collateral_value', 'title': 'Distribuição do Valor do Veículo (Garantia)', 'xlabel': 'Valor do Veículo'},\n",
    "    {'col': 'loan_amount', 'title': 'Distribuição do Valor do Empréstimo', 'xlabel': 'Valor do Empréstimo'},\n",
    "    {'col': 'collateral_debt', 'title': 'Distribuição da Dívida do Veículo', 'xlabel': 'Dívida do Veículo'},\n",
    "    {'col': 'monthly_payment', 'title': 'Distribuição do Pagamento Mensal', 'xlabel': 'Pagamento Mensal'}\n",
    "]\n",
    "\n",
    "num_rows = len(cols_to_plot)\n",
    "fig, axes = plt.subplots(nrows=num_rows, ncols=2, figsize=(14, num_rows * 4))\n",
    "\n",
    "fig.suptitle('Análise Univariada das Variáveis Numéricas', fontsize=20, y=1.02)\n",
    "\n",
    "for i, var_info in enumerate(cols_to_plot):\n",
    "    col_name = var_info['col']\n",
    "    title = var_info['title']\n",
    "    xlabel = var_info['xlabel']\n",
    "\n",
    "    sns.histplot(data=df, x=col_name, kde=True, bins=30, ax=axes[i, 0], color='skyblue')\n",
    "    axes[i, 0].set_title(f'{title} - Histograma')\n",
    "    axes[i, 0].set_xlabel(xlabel)\n",
    "    axes[i, 0].set_ylabel('Frequência')\n",
    "\n",
    "    sns.boxplot(data=df, x=col_name, ax=axes[i, 1], showfliers=False, color='lightgreen')\n",
    "    axes[i, 1].set_title(f'{title} - Boxplot')\n",
    "    axes[i, 1].set_xlabel(xlabel)\n",
    "\n",
    "plt.tight_layout(rect=[0, 0, 1, 1])\n",
    "plt.show()"
   ]
  },
  {
   "cell_type": "markdown",
   "metadata": {
    "application/vnd.databricks.v1+cell": {
     "cellMetadata": {
      "byteLimit": 2048000,
      "rowLimit": 10000
     },
     "inputWidgets": {},
     "nuid": "351c647b-7128-4e57-9167-f1438b94fe43",
     "showTitle": false,
     "tableResultSettingsMap": {},
     "title": ""
    }
   },
   "source": [
    "## Variáveis Categóricas"
   ]
  },
  {
   "cell_type": "code",
   "execution_count": 0,
   "metadata": {
    "application/vnd.databricks.v1+cell": {
     "cellMetadata": {
      "byteLimit": 2048000,
      "rowLimit": 10000
     },
     "inputWidgets": {},
     "nuid": "4b32c5a4-ab8c-429f-8bee-107f58c98e3a",
     "showTitle": false,
     "tableResultSettingsMap": {},
     "title": ""
    }
   },
   "outputs": [],
   "source": [
    "horizontal_cols = {\n",
    "    'city': 'Top 10 Cidades',\n",
    "    'state': 'Top 10 Estados',\n",
    "    'auto_brand': 'Top 10 Marcas de Veículos',\n",
    "    'auto_model': 'Top 10 Modelos de Veículos',\n",
    "    'auto_year': 'Top 10 Anos de Veículos',\n",
    "    'education_level': 'Distribuição do Nível Educacional'\n",
    "}\n",
    "\n",
    "vertical_cols = {\n",
    "    'verified_restriction': 'Restrição Verificada',\n",
    "    'dishonored_checks': 'Cheques sem Fundo',\n",
    "    'expired_debts': 'Dívidas Expiradas',\n",
    "    'banking_debts': 'Dívidas Bancárias',\n",
    "    'commercial_debts': 'Dívidas Comerciais',\n",
    "    'protests': 'Protestos',\n",
    "    'informed_restriction': 'Restrição Informada',\n",
    "    'pre_approved': 'Pré-Aprovados',\n",
    "    'form_completed': 'Formulário Completo',\n",
    "    'sent_to_analysis': 'Enviado para Análise',\n",
    "    'channel': 'Canal de Aquisição',\n",
    "    'landing_page_product': 'Produto da Landing Page',\n",
    "    'gender': 'Gênero',\n",
    "    'utm_term': 'Tipo de Dispositivo (UTM)'\n",
    "}\n",
    "\n",
    "total_plots = len(horizontal_cols) + len(vertical_cols)\n",
    "num_cols = 3\n",
    "num_rows = math.ceil(total_plots / num_cols)\n",
    "\n",
    "fig, axes = plt.subplots(nrows=num_rows, ncols=num_cols, figsize=(20, num_rows * 5))\n",
    "axes = axes.flatten()\n",
    "\n",
    "fig.suptitle('Análise Univariada das Variáveis Categóricas', fontsize=24, y=1.03)\n",
    "\n",
    "current_ax_index = 0\n",
    "for col, title in horizontal_cols.items():\n",
    "    ax = axes[current_ax_index]\n",
    "    top_10 = df[col].value_counts().nlargest(10).index\n",
    "    sns.countplot(y=df[col], order=top_10, ax=ax, palette='viridis')\n",
    "    ax.set_title(title, fontsize=14)\n",
    "    ax.set_xlabel('Contagem')\n",
    "    ax.set_ylabel('')\n",
    "    current_ax_index += 1\n",
    "\n",
    "for col, title in vertical_cols.items():\n",
    "    ax = axes[current_ax_index]\n",
    "    order = df[col].value_counts().index\n",
    "    sns.countplot(x=df[col], order=order, ax=ax, palette='viridis')\n",
    "    ax.set_title(title, fontsize=14)\n",
    "    ax.set_xlabel('')\n",
    "    ax.set_ylabel('Contagem')\n",
    "    if len(order) > 3:\n",
    "         ax.tick_params(axis='x', rotation=45)\n",
    "    current_ax_index += 1\n",
    "\n",
    "for i in range(current_ax_index, len(axes)):\n",
    "    axes[i].set_visible(False)\n",
    "\n",
    "plt.tight_layout(rect=[0, 0, 1, 0.99])\n",
    "plt.show()"
   ]
  },
  {
   "cell_type": "code",
   "execution_count": 0,
   "metadata": {
    "application/vnd.databricks.v1+cell": {
     "cellMetadata": {
      "byteLimit": 2048000,
      "rowLimit": 10000
     },
     "inputWidgets": {},
     "nuid": "b9fb4211-344a-4c08-9bd7-44615e1b5676",
     "showTitle": false,
     "tableResultSettingsMap": {},
     "title": ""
    }
   },
   "outputs": [],
   "source": [
    "unique_counts = df.nunique()\n",
    "print(unique_counts)"
   ]
  },
  {
   "cell_type": "markdown",
   "metadata": {
    "application/vnd.databricks.v1+cell": {
     "cellMetadata": {
      "byteLimit": 2048000,
      "rowLimit": 10000
     },
     "inputWidgets": {},
     "nuid": "8f775387-5060-4b22-9bfb-e4a1d6eec489",
     "showTitle": false,
     "tableResultSettingsMap": {},
     "title": ""
    }
   },
   "source": [
    "# Análise bivariada"
   ]
  },
  {
   "cell_type": "code",
   "execution_count": 0,
   "metadata": {
    "application/vnd.databricks.v1+cell": {
     "cellMetadata": {
      "byteLimit": 2048000,
      "rowLimit": 10000
     },
     "inputWidgets": {},
     "nuid": "4b4c59eb-cb67-473c-b124-05feb553febc",
     "showTitle": false,
     "tableResultSettingsMap": {},
     "title": ""
    }
   },
   "outputs": [],
   "source": [
    "total_clients = len(df)\n",
    "pre_approved_count = df['pre_approved'].sum() # .sum() funciona porque True=1 e False=0\n",
    "not_pre_approved_count = total_clients - pre_approved_count\n",
    "pre_approved_percentage = (pre_approved_count / total_clients) * 100\n",
    "\n",
    "print(f\"Quantidade total de clientes no conjunto de dados: {total_clients}\")\n",
    "print(f\"Quantidade de clientes Pré-Aprovados: {int(pre_approved_count)}\")\n",
    "print(f\"Quantidade de clientes Não Pré-Aprovados: {int(not_pre_approved_count)}\")\n",
    "print(f\"Porcentagem de clientes que são Pré-Aprovados: {pre_approved_percentage:.2f}%\")\n",
    "\n",
    "status_data = pd.DataFrame({\n",
    "    'Status': ['Pré-Aprovado', 'Não Pré-Aprovado'],\n",
    "    'Contagem': [pre_approved_count, not_pre_approved_count]\n",
    "})\n",
    "\n",
    "plt.figure(figsize=(8, 6))\n",
    "ax = sns.barplot(x='Status', y='Contagem', data=status_data, palette=['#4CAF50', '#F44336'])\n",
    "\n",
    "for p in ax.patches:\n",
    "    ax.annotate(f'{int(p.get_height())}',\n",
    "                (p.get_x() + p.get_width() / 2., p.get_height()),\n",
    "                ha='center', va='center',\n",
    "                xytext=(0, 9),\n",
    "                textcoords='offset points',\n",
    "                fontsize=12,\n",
    "                weight='bold')\n",
    "\n",
    "plt.title('Total vs. Clientes Pré-Aprovados (Contagens Absolutas)', fontsize=16)\n",
    "plt.ylabel('Número de Clientes', fontsize=12)\n",
    "plt.xlabel('Status do Cliente', fontsize=12)\n",
    "plt.show()"
   ]
  },
  {
   "cell_type": "code",
   "execution_count": 0,
   "metadata": {
    "application/vnd.databricks.v1+cell": {
     "cellMetadata": {
      "byteLimit": 2048000,
      "rowLimit": 10000
     },
     "inputWidgets": {},
     "nuid": "15762bc4-a4ee-4d33-bb18-7f336eb1eb80",
     "showTitle": false,
     "tableResultSettingsMap": {},
     "title": ""
    }
   },
   "outputs": [],
   "source": [
    "df_analysis = df[df['pre_approved'] == 1].copy()\n",
    "\n",
    "crosstab_counts = pd.crosstab(df_analysis['form_completed'], df_analysis['sent_to_analysis'])\n",
    "crosstab_counts.index = ['Não Preencheu o Formulário', 'Preencheu o Formulário']\n",
    "crosstab_counts.columns = ['Não Enviado para Análise', 'Enviado para Análise']\n",
    "\n",
    "crosstab_normalized = pd.crosstab(df_analysis['form_completed'], df_analysis['sent_to_analysis'], normalize='index') * 100\n",
    "crosstab_normalized.index = ['Não Preencheu o Formulário', 'Preencheu o Formulário']\n",
    "crosstab_normalized.columns = ['Não Enviado para Análise (%)', 'Enviado para Análise (%)']\n",
    "\n",
    "ax = crosstab_normalized.plot(\n",
    "    kind='bar',\n",
    "    stacked=True,\n",
    "    figsize=(10, 7),\n",
    "    colormap='viridis',\n",
    "    rot=0\n",
    ")\n",
    "\n",
    "plt.title('Impacto do Preenchimento do Formulário no Envio para Análise', fontsize=16, pad=20)\n",
    "plt.ylabel('Porcentagem de Clientes (%)', fontsize=12)\n",
    "plt.xlabel('Status de Preenchimento do Formulário', fontsize=12)\n",
    "\n",
    "for c in ax.containers:\n",
    "    labels = [f'{w:.1f}%' if w > 0 else '' for w in c.datavalues]\n",
    "    ax.bar_label(c, labels=labels, label_type='center', weight='bold', color='white')\n",
    "\n",
    "plt.legend(title='Resultado', bbox_to_anchor=(1.05, 1), loc='upper left')\n",
    "plt.tight_layout()\n",
    "plt.show()"
   ]
  },
  {
   "cell_type": "code",
   "execution_count": 0,
   "metadata": {
    "application/vnd.databricks.v1+cell": {
     "cellMetadata": {
      "byteLimit": 2048000,
      "rowLimit": 10000
     },
     "inputWidgets": {},
     "nuid": "957a943e-0733-410a-82f9-c11bf81aa62d",
     "showTitle": false,
     "tableResultSettingsMap": {},
     "title": ""
    }
   },
   "outputs": [],
   "source": [
    "education_mapping = {\n",
    "    'Analfabeto, inclusive o que, embora tenha recebido instrução, não se alfabetizou.': 'Analfabeto',\n",
    "    'Até a 4ª série incompleta do ensino fundamental (antigo 1º grau ou primário), que se tenha alfabetizado sem ter freqüentado escola regular.': 'Fundamental Incompleto',\n",
    "    '4ª série completa do ensino fundamental (antigo 1º grau ou primário).': 'Fundamental Incompleto',\n",
    "    'Da 5ª à 8ª série do ensino fundamental (antigo 1º grau ou ginásio).': 'Fundamental Incompleto',\n",
    "    'Ensino fundamental completo (antigo 1º grau ou primário e ginasial).': 'Fundamental Completo',\n",
    "    'Ensino médio incompleto (antigo 2º grau, secundário ou colegial).': 'Ensino Médio Incompleto',\n",
    "    'Ensino médio completo (antigo 2º grau, secundário ou colegial).': 'Ensino Médio Completo',\n",
    "    'Educação superior incompleta.': 'Superior Incompleto',\n",
    "    'Educação superior completa': 'Superior Completo'\n",
    "}\n",
    "\n",
    "df['education_level'] = df['education_level'].replace(education_mapping)"
   ]
  },
  {
   "cell_type": "code",
   "execution_count": 0,
   "metadata": {
    "application/vnd.databricks.v1+cell": {
     "cellMetadata": {
      "byteLimit": 2048000,
      "rowLimit": 10000
     },
     "inputWidgets": {},
     "nuid": "9d5aeea9-5fbd-4d1d-8438-d99c4c274e39",
     "showTitle": false,
     "tableResultSettingsMap": {},
     "title": ""
    }
   },
   "outputs": [],
   "source": [
    "categorical_features = [\n",
    "    'form_completed', 'channel', 'education_level',\n",
    "    'state', 'informed_purpose', 'gender'\n",
    "]"
   ]
  },
  {
   "cell_type": "code",
   "execution_count": 0,
   "metadata": {
    "application/vnd.databricks.v1+cell": {
     "cellMetadata": {
      "byteLimit": 2048000,
      "rowLimit": 10000
     },
     "inputWidgets": {},
     "nuid": "ae230d40-b8b9-46cf-bf47-a469da8f7e4b",
     "showTitle": false,
     "tableResultSettingsMap": {},
     "title": ""
    }
   },
   "outputs": [],
   "source": [
    "n_features = len(categorical_features)\n",
    "n_cols = 2\n",
    "n_rows = math.ceil(n_features / n_cols)\n",
    "\n",
    "fig, axes = plt.subplots(n_rows, n_cols, figsize=(16, 6 * n_rows))\n",
    "axes = axes.flatten()\n",
    "\n",
    "for i, feature in enumerate(categorical_features):\n",
    "    if df_analysis[feature].nunique() > 10:\n",
    "        top_categories = df_analysis[feature].value_counts().nlargest(10).index\n",
    "        plot_df = df_analysis[df_analysis[feature].isin(top_categories)]\n",
    "        title = f'Taxa de Conversão pelas 10 Principais \"{feature}\"'\n",
    "    else:\n",
    "        plot_df = df_analysis\n",
    "        title = f'Taxa de Conversão por \"{feature}\"'\n",
    "\n",
    "    conversion_rates = (\n",
    "        plot_df.groupby(feature)['sent_to_analysis']\n",
    "        .mean()\n",
    "        .sort_values(ascending=False)\n",
    "    )\n",
    "\n",
    "    sns.barplot(\n",
    "        x=conversion_rates.index,\n",
    "        y=conversion_rates.values * 100,\n",
    "        palette='viridis',\n",
    "        ax=axes[i]\n",
    "    )\n",
    "\n",
    "    axes[i].set_title(title, fontsize=14)\n",
    "    axes[i].set_ylabel('Taxa de Envio (%)', fontsize=10)\n",
    "    axes[i].set_xlabel(feature, fontsize=10)\n",
    "    axes[i].tick_params(axis='x', rotation=90)\n",
    "\n",
    "for j in range(i + 1, len(axes)):\n",
    "    fig.delaxes(axes[j])\n",
    "\n",
    "plt.subplots_adjust(hspace=0.5, wspace=0.3)\n",
    "plt.show()"
   ]
  },
  {
   "cell_type": "code",
   "execution_count": 0,
   "metadata": {
    "application/vnd.databricks.v1+cell": {
     "cellMetadata": {
      "byteLimit": 2048000,
      "rowLimit": 10000
     },
     "inputWidgets": {},
     "nuid": "6c2c52cd-a32e-417c-b0ae-e17679c21c10",
     "showTitle": false,
     "tableResultSettingsMap": {},
     "title": ""
    }
   },
   "outputs": [],
   "source": [
    "financial_flags = ['dishonored_checks', 'expired_debts', 'banking_debts', 'commercial_debts', 'protests']\n",
    "flag_conversion_rates = {}\n",
    "for flag in financial_flags:\n",
    "    rate = df_analysis.groupby(flag)['sent_to_analysis'].mean()\n",
    "    flag_conversion_rates[flag] = rate\n",
    "\n",
    "fig, axes = plt.subplots(1, len(financial_flags), figsize=(20, 5), sharey=True)\n",
    "fig.suptitle('Impacto de Indicadores Financeiros Negativos na Taxa de Conversão', fontsize=16)\n",
    "for i, flag in enumerate(financial_flags):\n",
    "    rates = flag_conversion_rates[flag]\n",
    "    sns.barplot(x=rates.index, y=rates.values * 100, ax=axes[i], palette='viridis')\n",
    "    axes[i].set_title(flag)\n",
    "    axes[i].set_xlabel('Indicador (1=Sim, 0=Não)')\n",
    "    if i == 0:\n",
    "        axes[i].set_ylabel('Taxa de Envio para Análise (%)')\n",
    "plt.tight_layout(rect=[0, 0.03, 1, 0.95])\n",
    "plt.show()"
   ]
  },
  {
   "cell_type": "code",
   "execution_count": 0,
   "metadata": {
    "application/vnd.databricks.v1+cell": {
     "cellMetadata": {
      "byteLimit": 2048000,
      "rowLimit": 10000
     },
     "inputWidgets": {},
     "nuid": "d4001e0f-93b9-4624-85e5-1d1ba07b303f",
     "showTitle": false,
     "tableResultSettingsMap": {},
     "title": ""
    }
   },
   "outputs": [],
   "source": [
    "numerical_features = [\n",
    "    'monthly_income', 'loan_amount', 'collateral_value',\n",
    "    'collateral_debt', 'auto_year'\n",
    "]\n",
    "\n",
    "fig, axes = plt.subplots(1, len(numerical_features), figsize=(20, 6))\n",
    "\n",
    "fig.suptitle('Distribuição das Variáveis Numéricas por Resultado da Análise', fontsize=18, y=1.02)\n",
    "\n",
    "for i, feature in enumerate(numerical_features):\n",
    "    sns.boxplot(\n",
    "        x='sent_to_analysis',\n",
    "        y=feature,\n",
    "        data=df_analysis,\n",
    "        palette='coolwarm',\n",
    "        showfliers=False,\n",
    "        ax=axes[i]\n",
    "    )\n",
    "    \n",
    "    axes[i].set_title(f'{feature}', fontsize=14)\n",
    "    axes[i].set_ylabel(feature, fontsize=12)\n",
    "    axes[i].set_xlabel('Enviado para Análise\\n(0=Não, 1=Sim)', fontsize=11)\n",
    "    \n",
    "    if feature in ['monthly_income', 'collateral_value', 'loan_amount']:\n",
    "        axes[i].set_ylim(0, df_analysis[feature].quantile(0.95))\n",
    "\n",
    "plt.tight_layout()\n",
    "plt.show()"
   ]
  },
  {
   "cell_type": "markdown",
   "metadata": {
    "application/vnd.databricks.v1+cell": {
     "cellMetadata": {
      "byteLimit": 2048000,
      "rowLimit": 10000
     },
     "inputWidgets": {},
     "nuid": "d16dd5a9-7384-4172-8cb8-843e45568b9c",
     "showTitle": false,
     "tableResultSettingsMap": {},
     "title": ""
    }
   },
   "source": [
    "> Clientes com rendas mais altas têm maior chance de serem enviados para análise. A renda é uma métrica fundamental para avaliar a capacidade de pagamento do empréstimo.\n",
    "\n",
    ">  Clientes que solicitam empréstimos muito altos têm menos probabilidade de avançar no processo.\n",
    "\n",
    "> Um carro de maior valor oferece melhor garantia para o empréstimo.\n",
    "\n",
    "> Dívidas existentes complicam o processo do empréstimo e aumentam o risco.\n",
    "\n",
    "> Carros mais antigos têm valor menor e podem ser considerados de maior risco como garantia."
   ]
  },
  {
   "cell_type": "markdown",
   "metadata": {
    "application/vnd.databricks.v1+cell": {
     "cellMetadata": {
      "byteLimit": 2048000,
      "rowLimit": 10000
     },
     "inputWidgets": {},
     "nuid": "60de4742-8340-41e8-8bc6-91747bf01475",
     "showTitle": false,
     "tableResultSettingsMap": {},
     "title": ""
    }
   },
   "source": [
    "# Limpeza e pré-processamento"
   ]
  },
  {
   "cell_type": "code",
   "execution_count": 0,
   "metadata": {
    "application/vnd.databricks.v1+cell": {
     "cellMetadata": {
      "byteLimit": 2048000,
      "rowLimit": 10000
     },
     "inputWidgets": {},
     "nuid": "06b8a5f9-d6f6-46d8-a06c-0760fdc24aba",
     "showTitle": false,
     "tableResultSettingsMap": {},
     "title": ""
    }
   },
   "outputs": [],
   "source": [
    "df_processed = df.copy()"
   ]
  },
  {
   "cell_type": "code",
   "execution_count": 0,
   "metadata": {
    "application/vnd.databricks.v1+cell": {
     "cellMetadata": {
      "byteLimit": 2048000,
      "rowLimit": 10000
     },
     "inputWidgets": {},
     "nuid": "51bd6b8b-c3f7-4bd2-a2c0-e84c07d97134",
     "showTitle": false,
     "tableResultSettingsMap": {},
     "title": ""
    }
   },
   "outputs": [],
   "source": [
    "df_processed.shape"
   ]
  },
  {
   "cell_type": "code",
   "execution_count": 0,
   "metadata": {
    "application/vnd.databricks.v1+cell": {
     "cellMetadata": {
      "byteLimit": 2048000,
      "rowLimit": 10000
     },
     "inputWidgets": {},
     "nuid": "69ee8910-1220-4306-b902-6acfb5c6e1c9",
     "showTitle": false,
     "tableResultSettingsMap": {},
     "title": ""
    }
   },
   "outputs": [],
   "source": [
    "df_processed = df_processed[df_processed['pre_approved'] == 1].copy()\n",
    "print(f\"Shape após filtrar por pre-approved': {df_processed.shape}\")"
   ]
  },
  {
   "cell_type": "code",
   "execution_count": 0,
   "metadata": {
    "application/vnd.databricks.v1+cell": {
     "cellMetadata": {
      "byteLimit": 2048000,
      "rowLimit": 10000
     },
     "inputWidgets": {},
     "nuid": "79d3fa75-dc0c-4563-b646-a1ad4698d898",
     "showTitle": false,
     "tableResultSettingsMap": {},
     "title": ""
    }
   },
   "outputs": [],
   "source": [
    "# Removendo colunas com muitos valores nulos\n",
    "cols_to_drop = ['loan_term', 'marital_status', 'utm_term']\n",
    "df_processed.drop(columns=cols_to_drop, inplace=True)"
   ]
  },
  {
   "cell_type": "code",
   "execution_count": 0,
   "metadata": {
    "application/vnd.databricks.v1+cell": {
     "cellMetadata": {
      "byteLimit": 2048000,
      "rowLimit": 10000
     },
     "inputWidgets": {},
     "nuid": "748e32b0-ac00-4509-91c1-39071ff5c5a9",
     "showTitle": false,
     "tableResultSettingsMap": {},
     "title": ""
    }
   },
   "outputs": [],
   "source": [
    "# Imputando valores faltantes com 0\n",
    "nan_imputation = {\n",
    "    'collateral_debt': 0,\n",
    "    'verified_restriction': 0,\n",
    "    'informed_restriction': 0\n",
    "}\n",
    "df_processed.fillna(nan_imputation, inplace=True)"
   ]
  },
  {
   "cell_type": "code",
   "execution_count": 0,
   "metadata": {
    "application/vnd.databricks.v1+cell": {
     "cellMetadata": {
      "byteLimit": 2048000,
      "rowLimit": 10000
     },
     "inputWidgets": {},
     "nuid": "4cd3746f-53ba-4a07-8b72-1e7d5c132c95",
     "showTitle": false,
     "tableResultSettingsMap": {},
     "title": ""
    }
   },
   "outputs": [],
   "source": [
    "# Imputando colunas categóricas com \"Unknown\"\n",
    "categorical_cols = df_processed.select_dtypes(include=['object']).columns\n",
    "for col in categorical_cols:\n",
    "    df_processed[col].fillna('Unknown', inplace=True)"
   ]
  },
  {
   "cell_type": "code",
   "execution_count": 0,
   "metadata": {
    "application/vnd.databricks.v1+cell": {
     "cellMetadata": {
      "byteLimit": 2048000,
      "rowLimit": 10000
     },
     "inputWidgets": {},
     "nuid": "3ac02bd8-2578-4ffc-936c-9246851a3a3c",
     "showTitle": false,
     "tableResultSettingsMap": {},
     "title": ""
    }
   },
   "outputs": [],
   "source": [
    "print(df_processed.duplicated().sum())\n",
    "df_processed.drop_duplicates(inplace=True)"
   ]
  },
  {
   "cell_type": "code",
   "execution_count": 0,
   "metadata": {
    "application/vnd.databricks.v1+cell": {
     "cellMetadata": {
      "byteLimit": 2048000,
      "rowLimit": 10000
     },
     "inputWidgets": {},
     "nuid": "ff1fb8ff-5c9d-421b-8aa8-2147c75e9a97",
     "showTitle": false,
     "tableResultSettingsMap": {},
     "title": ""
    }
   },
   "outputs": [],
   "source": [
    "print(df_processed['id'].duplicated().sum())"
   ]
  },
  {
   "cell_type": "code",
   "execution_count": 0,
   "metadata": {
    "application/vnd.databricks.v1+cell": {
     "cellMetadata": {
      "byteLimit": 2048000,
      "rowLimit": 10000
     },
     "inputWidgets": {},
     "nuid": "ce991e08-bbdb-43fb-a765-12b8480ebf48",
     "showTitle": false,
     "tableResultSettingsMap": {},
     "title": ""
    }
   },
   "outputs": [],
   "source": [
    "df_processed = df_processed.drop_duplicates(subset=['id'], keep='first')"
   ]
  },
  {
   "cell_type": "code",
   "execution_count": 0,
   "metadata": {
    "application/vnd.databricks.v1+cell": {
     "cellMetadata": {
      "byteLimit": 2048000,
      "rowLimit": 10000
     },
     "inputWidgets": {},
     "nuid": "53be5f64-2866-4045-a9c0-efa06d3005cd",
     "showTitle": false,
     "tableResultSettingsMap": {},
     "title": ""
    }
   },
   "outputs": [],
   "source": [
    "df_processed.info()"
   ]
  },
  {
   "cell_type": "code",
   "execution_count": 0,
   "metadata": {
    "application/vnd.databricks.v1+cell": {
     "cellMetadata": {
      "byteLimit": 2048000,
      "rowLimit": 10000
     },
     "inputWidgets": {},
     "nuid": "2f7f46b2-a4c7-45be-a8b3-50e1432c2ef1",
     "showTitle": false,
     "tableResultSettingsMap": {},
     "title": ""
    }
   },
   "outputs": [],
   "source": [
    "df_processed.to_csv('/Workspace/Users/nagahamasami@gmail.com/creditas-case/data/processed/clean-dataset.csv', index=False)"
   ]
  }
 ],
 "metadata": {
  "application/vnd.databricks.v1+notebook": {
   "computePreferences": null,
   "dashboards": [],
   "environmentMetadata": {
    "base_environment": "",
    "environment_version": "3"
   },
   "inputWidgetPreferences": null,
   "language": "python",
   "notebookMetadata": {
    "pythonIndentUnit": 4
   },
   "notebookName": "EDA - inicial",
   "widgets": {}
  },
  "language_info": {
   "name": "python"
  }
 },
 "nbformat": 4,
 "nbformat_minor": 0
}
