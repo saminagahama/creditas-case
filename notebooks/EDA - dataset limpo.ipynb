{
 "cells": [
  {
   "cell_type": "markdown",
   "metadata": {
    "application/vnd.databricks.v1+cell": {
     "cellMetadata": {},
     "inputWidgets": {},
     "nuid": "43320ebc-9505-488a-8229-1ff814466562",
     "showTitle": false,
     "tableResultSettingsMap": {},
     "title": ""
    }
   },
   "source": [
    "Análise exploratória somente com clientes pré-aprovados"
   ]
  },
  {
   "cell_type": "code",
   "execution_count": 0,
   "metadata": {
    "application/vnd.databricks.v1+cell": {
     "cellMetadata": {
      "byteLimit": 2048000,
      "rowLimit": 10000
     },
     "inputWidgets": {},
     "nuid": "d5dd5dd1-5b96-489d-960a-cd535517fc58",
     "showTitle": false,
     "tableResultSettingsMap": {},
     "title": ""
    }
   },
   "outputs": [],
   "source": [
    "import pandas as pd\n",
    "import numpy as np\n",
    "import matplotlib.pyplot as plt\n",
    "import seaborn as sns\n",
    "import math"
   ]
  },
  {
   "cell_type": "code",
   "execution_count": 0,
   "metadata": {
    "application/vnd.databricks.v1+cell": {
     "cellMetadata": {
      "byteLimit": 2048000,
      "rowLimit": 10000
     },
     "inputWidgets": {},
     "nuid": "13d590f0-3792-43a3-b7f7-de41a8ec725d",
     "showTitle": false,
     "tableResultSettingsMap": {},
     "title": ""
    }
   },
   "outputs": [],
   "source": [
    "pd.set_option('display.max_colwidth', None)\n",
    "pd.set_option('display.max_rows', None)"
   ]
  },
  {
   "cell_type": "code",
   "execution_count": 0,
   "metadata": {
    "application/vnd.databricks.v1+cell": {
     "cellMetadata": {
      "byteLimit": 2048000,
      "rowLimit": 10000
     },
     "inputWidgets": {},
     "nuid": "06b122fc-e358-48a6-ad53-e472ce4527b6",
     "showTitle": false,
     "tableResultSettingsMap": {},
     "title": ""
    }
   },
   "outputs": [],
   "source": [
    "sns.set_style('whitegrid')\n",
    "plt.style.use('seaborn-v0_8-whitegrid')\n",
    "%matplotlib inline"
   ]
  },
  {
   "cell_type": "code",
   "execution_count": 0,
   "metadata": {
    "application/vnd.databricks.v1+cell": {
     "cellMetadata": {
      "byteLimit": 2048000,
      "rowLimit": 10000
     },
     "inputWidgets": {},
     "nuid": "fc5c70b3-0470-4471-84af-49d12df78603",
     "showTitle": false,
     "tableResultSettingsMap": {},
     "title": ""
    }
   },
   "outputs": [],
   "source": [
    "df = pd.read_csv('/Workspace/Users/nagahamasami@gmail.com/creditas-case/data/processed/clean-dataset.csv')\n",
    "df.head()"
   ]
  },
  {
   "cell_type": "markdown",
   "metadata": {
    "application/vnd.databricks.v1+cell": {
     "cellMetadata": {
      "byteLimit": 2048000,
      "rowLimit": 10000
     },
     "inputWidgets": {},
     "nuid": "cea0c985-e0a5-4206-b385-c1ec17b59fd6",
     "showTitle": false,
     "tableResultSettingsMap": {},
     "title": ""
    }
   },
   "source": [
    "# Análise univariada"
   ]
  },
  {
   "cell_type": "code",
   "execution_count": 0,
   "metadata": {
    "application/vnd.databricks.v1+cell": {
     "cellMetadata": {
      "byteLimit": 2048000,
      "rowLimit": 10000
     },
     "inputWidgets": {},
     "nuid": "12c9665c-8d66-4c62-86cf-377bee4544bc",
     "showTitle": false,
     "tableResultSettingsMap": {},
     "title": ""
    }
   },
   "outputs": [],
   "source": [
    "cols_to_plot = [\n",
    "    {'col': 'age', 'title': 'Distribuição da Idade', 'xlabel': 'Idade'},\n",
    "    {'col': 'monthly_income', 'title': 'Distribuição da Renda Mensal', 'xlabel': 'Renda Mensal'},\n",
    "    {'col': 'collateral_value', 'title': 'Distribuição do Valor do Veículo (Garantia)', 'xlabel': 'Valor do Veículo'},\n",
    "    {'col': 'loan_amount', 'title': 'Distribuição do Valor do Empréstimo', 'xlabel': 'Valor do Empréstimo'},\n",
    "    {'col': 'collateral_debt', 'title': 'Distribuição da Dívida do Veículo', 'xlabel': 'Dívida do Veículo'},\n",
    "    {'col': 'monthly_payment', 'title': 'Distribuição do Pagamento Mensal', 'xlabel': 'Pagamento Mensal'}\n",
    "]\n",
    "\n",
    "num_rows = len(cols_to_plot)\n",
    "fig, axes = plt.subplots(nrows=num_rows, ncols=2, figsize=(14, num_rows * 4))\n",
    "\n",
    "fig.suptitle('Análise Univariada das Variáveis Numéricas', fontsize=20, y=1.02)\n",
    "\n",
    "for i, var_info in enumerate(cols_to_plot):\n",
    "    col_name = var_info['col']\n",
    "    title = var_info['title']\n",
    "    xlabel = var_info['xlabel']\n",
    "\n",
    "    sns.histplot(data=df, x=col_name, kde=True, bins=30, ax=axes[i, 0], color='skyblue')\n",
    "    axes[i, 0].set_title(f'{title} - Histograma')\n",
    "    axes[i, 0].set_xlabel(xlabel)\n",
    "    axes[i, 0].set_ylabel('Frequência')\n",
    "\n",
    "    sns.boxplot(data=df, x=col_name, ax=axes[i, 1], showfliers=False, color='lightgreen')\n",
    "    axes[i, 1].set_title(f'{title} - Boxplot')\n",
    "    axes[i, 1].set_xlabel(xlabel)\n",
    "\n",
    "plt.tight_layout(rect=[0, 0, 1, 1])\n",
    "plt.show()"
   ]
  },
  {
   "cell_type": "code",
   "execution_count": 0,
   "metadata": {
    "application/vnd.databricks.v1+cell": {
     "cellMetadata": {
      "byteLimit": 2048000,
      "rowLimit": 10000
     },
     "inputWidgets": {},
     "nuid": "dae5a613-0855-4c49-8aa1-1c8c63ab90b7",
     "showTitle": false,
     "tableResultSettingsMap": {},
     "title": ""
    }
   },
   "outputs": [],
   "source": [
    "horizontal_cols = {\n",
    "    'city': 'Top 10 Cidades',\n",
    "    'state': 'Top 10 Estados',\n",
    "    'auto_brand': 'Top 10 Marcas de Veículos',\n",
    "    'auto_model': 'Top 10 Modelos de Veículos',\n",
    "    'auto_year': 'Top 10 Anos de Veículos',\n",
    "    'education_level': 'Distribuição do Nível Educacional'\n",
    "}\n",
    "\n",
    "vertical_cols = {\n",
    "    'verified_restriction': 'Restrição Verificada',\n",
    "    'dishonored_checks': 'Cheques sem Fundo',\n",
    "    'expired_debts': 'Dívidas Expiradas',\n",
    "    'banking_debts': 'Dívidas Bancárias',\n",
    "    'commercial_debts': 'Dívidas Comerciais',\n",
    "    'protests': 'Protestos',\n",
    "    'informed_restriction': 'Restrição Informada',\n",
    "    'pre_approved': 'Pré-Aprovados',\n",
    "    'form_completed': 'Formulário Completo',\n",
    "    'sent_to_analysis': 'Enviado para Análise',\n",
    "    'channel': 'Canal de Aquisição',\n",
    "    'landing_page_product': 'Produto da Landing Page',\n",
    "    'gender': 'Gênero',\n",
    "}\n",
    "\n",
    "total_plots = len(horizontal_cols) + len(vertical_cols)\n",
    "num_cols = 3\n",
    "num_rows = math.ceil(total_plots / num_cols)\n",
    "\n",
    "fig, axes = plt.subplots(nrows=num_rows, ncols=num_cols, figsize=(20, num_rows * 5))\n",
    "axes = axes.flatten()\n",
    "\n",
    "fig.suptitle('Análise Univariada das Variáveis Categóricas', fontsize=24, y=1.03)\n",
    "\n",
    "current_ax_index = 0\n",
    "for col, title in horizontal_cols.items():\n",
    "    ax = axes[current_ax_index]\n",
    "    top_10 = df[col].value_counts().nlargest(10).index\n",
    "    sns.countplot(y=df[col], order=top_10, ax=ax, palette='viridis')\n",
    "    ax.set_title(title, fontsize=14)\n",
    "    ax.set_xlabel('Contagem')\n",
    "    ax.set_ylabel('')\n",
    "    current_ax_index += 1\n",
    "\n",
    "for col, title in vertical_cols.items():\n",
    "    ax = axes[current_ax_index]\n",
    "    order = df[col].value_counts().index\n",
    "    sns.countplot(x=df[col], order=order, ax=ax, palette='viridis')\n",
    "    ax.set_title(title, fontsize=14)\n",
    "    ax.set_xlabel('')\n",
    "    ax.set_ylabel('Contagem')\n",
    "    if len(order) > 3:\n",
    "         ax.tick_params(axis='x', rotation=45)\n",
    "    current_ax_index += 1\n",
    "\n",
    "for i in range(current_ax_index, len(axes)):\n",
    "    axes[i].set_visible(False)\n",
    "\n",
    "plt.tight_layout(rect=[0, 0, 1, 0.99])\n",
    "plt.show()"
   ]
  },
  {
   "cell_type": "code",
   "execution_count": 0,
   "metadata": {
    "application/vnd.databricks.v1+cell": {
     "cellMetadata": {
      "byteLimit": 2048000,
      "rowLimit": 10000
     },
     "inputWidgets": {},
     "nuid": "feda944c-c8bf-434b-935d-b17ddd2589e0",
     "showTitle": false,
     "tableResultSettingsMap": {},
     "title": ""
    }
   },
   "outputs": [],
   "source": [
    "numeric_cols = [\n",
    "    'age',                   # Idade do cliente (provavelmente em dias ou outra unidade, mas é quantitativa).\n",
    "    'monthly_income',        # Renda mensal declarada.\n",
    "    'collateral_value',      # Valor de avaliação do veículo em garantia.\n",
    "    'loan_amount',           # Valor do empréstimo solicitado.\n",
    "    'collateral_debt',       # Dívida existente sobre a garantia (ex: financiamento não quitado).\n",
    "    'verified_restriction',  # Flag indicando restrição verificada (tratada como 0 ou 1).\n",
    "    'dishonored_checks',     # Número de cheques devolvidos.\n",
    "    'expired_debts',         # Quantidade de dívidas expiradas.\n",
    "    'banking_debts',         # Valor ou quantidade de dívidas bancárias.\n",
    "\n",
    "    'commercial_debts',      # Valor ou quantidade de dívidas comerciais.\n",
    "    'protests',              # Número de protestos em nome do cliente.\n",
    "    'informed_restriction',  # Flag se o cliente informou possuir restrição (tratada como 0 ou 1).\n",
    "    'monthly_payment',       # Valor da parcela mensal do empréstimo.\n",
    "    'auto_year',             # Ano de fabricação do veículo.\n",
    "    'form_completed'         # Flag se o cliente completou a ficha cadastral (tratada como 0 ou 1).\n",
    "]\n",
    "\n",
    "categorical_cols = [\n",
    "    'city',                  # Cidade do cliente.\n",
    "    'state',                 # Estado (UF) do cliente.\n",
    "    'informed_purpose',      # Motivo declarado para o empréstimo.\n",
    "    'auto_brand',            # Marca do veículo.\n",
    "    'auto_model',            # Modelo específico do veículo.\n",
    "    'channel',               # Canal de aquisição do cliente (search, direct, etc.).\n",
    "    'zip_code',              # CEP do cliente (tratado como categoria, pois a ordem numérica não importa).\n",
    "    'landing_page',          # Página específica por onde o cliente entrou.\n",
    "    'landing_page_product',  # Produto específico da landing page.\n",
    "    'gender',                # Gênero do cliente.\n",
    "    'education_level'        # Nível de escolaridade.\n",
    "]"
   ]
  },
  {
   "cell_type": "code",
   "execution_count": 0,
   "metadata": {
    "application/vnd.databricks.v1+cell": {
     "cellMetadata": {
      "byteLimit": 2048000,
      "rowLimit": 10000
     },
     "inputWidgets": {},
     "nuid": "852bcbea-65f0-4f7c-ab41-0ea24455f3fe",
     "showTitle": false,
     "tableResultSettingsMap": {},
     "title": ""
    }
   },
   "outputs": [],
   "source": [
    "target = 'sent_to_analysis'\n",
    "\n",
    "for col in numeric_cols:\n",
    "    plt.figure(figsize=(10, 6))\n",
    "    sns.boxplot(x=target, y=col, data=df, palette='muted')\n",
    "    plt.title(f'{col} vs. {target}')\n",
    "    # Para visualizar melhor a renda, podemos limitar o eixo y\n",
    "    if col == 'monthly_income':\n",
    "        plt.ylim(0, 30000) # Exemplo de limite para melhor visualização\n",
    "    plt.show()"
   ]
  },
  {
   "cell_type": "code",
   "execution_count": 0,
   "metadata": {
    "application/vnd.databricks.v1+cell": {
     "cellMetadata": {
      "byteLimit": 2048000,
      "rowLimit": 10000
     },
     "inputWidgets": {},
     "nuid": "250aee74-e995-4060-ac04-9595c1b72b37",
     "showTitle": false,
     "tableResultSettingsMap": {},
     "title": ""
    }
   },
   "outputs": [],
   "source": [
    "for col in categorical_cols:\n",
    "    # Calculando a taxa de 'sent_to_analysis' = 1 para cada categoria\n",
    "    conversion_rate = df.groupby(col)[target].mean().sort_values(ascending=False)\n",
    "    \n",
    "    plt.figure(figsize=(10, 6))\n",
    "    sns.barplot(y=conversion_rate.index, x=conversion_rate.values, palette='crest')\n",
    "    plt.title(f'Taxa de Envio para Análise por {col}')\n",
    "    plt.xlabel('Taxa de Envio para Análise (%)')\n",
    "    plt.ylabel('')\n",
    "    plt.xlim(0, max(conversion_rate.values) * 1.1) # Ajuste do limite do eixo x\n",
    "    plt.show()"
   ]
  },
  {
   "cell_type": "code",
   "execution_count": 0,
   "metadata": {
    "application/vnd.databricks.v1+cell": {
     "cellMetadata": {
      "byteLimit": 2048000,
      "rowLimit": 10000
     },
     "inputWidgets": {},
     "nuid": "7acdabdc-4e0b-4d54-9cb6-39b4052b2536",
     "showTitle": false,
     "tableResultSettingsMap": {},
     "title": ""
    }
   },
   "outputs": [],
   "source": [
    "plt.figure(figsize=(12, 8))\n",
    "sns.scatterplot(x='monthly_income', y='loan_amount', data=df, hue=target, palette='seismic', alpha=0.7)\n",
    "plt.title('Renda Mensal vs. Valor do Empréstimo (Colorido por Envio para Análise)')\n",
    "plt.xlim(0, 50000) # Limitando para melhor visualização\n",
    "plt.ylim(0, 80000)\n",
    "plt.show()"
   ]
  },
  {
   "cell_type": "code",
   "execution_count": 0,
   "metadata": {
    "application/vnd.databricks.v1+cell": {
     "cellMetadata": {
      "byteLimit": 2048000,
      "rowLimit": 10000
     },
     "inputWidgets": {},
     "nuid": "bca5f383-3e79-4838-bcb9-edb974dfb0c2",
     "showTitle": false,
     "tableResultSettingsMap": {},
     "title": ""
    }
   },
   "outputs": [],
   "source": [
    "g = sns.FacetGrid(df, col=\"channel\", hue=target, col_wrap=3, height=5)\n",
    "g.map(sns.scatterplot, \"monthly_income\", \"loan_amount\", alpha=.7)\n",
    "g.add_legend()\n",
    "g.set_xlabels(\"Renda Mensal\")\n",
    "g.set_ylabels(\"Valor do Empréstimo\")\n",
    "# Limitando eixos para visualização\n",
    "g.set(xlim=(0, 40000), ylim=(0, 75000))\n",
    "plt.show()"
   ]
  },
  {
   "cell_type": "code",
   "execution_count": 0,
   "metadata": {
    "application/vnd.databricks.v1+cell": {
     "cellMetadata": {
      "byteLimit": 2048000,
      "rowLimit": 10000
     },
     "inputWidgets": {},
     "nuid": "45534631-d1f5-4dbe-a0fe-d81b18c5cd15",
     "showTitle": false,
     "tableResultSettingsMap": {},
     "title": ""
    }
   },
   "outputs": [],
   "source": [
    "plt.figure(figsize=(15, 10))\n",
    "# Incluímos o target na correlação para ver a relação de cada feature com ele\n",
    "corr_matrix = df.select_dtypes(include=np.number).corr()\n",
    "sns.heatmap(corr_matrix, annot=True, cmap='coolwarm', fmt=\".2f\", linewidths=.5)\n",
    "plt.title('Matriz de Correlação das Variáveis Numéricas')\n",
    "plt.show()"
   ]
  },
  {
   "cell_type": "markdown",
   "metadata": {
    "application/vnd.databricks.v1+cell": {
     "cellMetadata": {
      "byteLimit": 2048000,
      "rowLimit": 10000
     },
     "inputWidgets": {},
     "nuid": "6a725e37-b96b-45f7-8ded-c84fc0f6454c",
     "showTitle": false,
     "tableResultSettingsMap": {},
     "title": ""
    }
   },
   "source": [
    "# Feature Engineering"
   ]
  },
  {
   "cell_type": "code",
   "execution_count": 0,
   "metadata": {
    "application/vnd.databricks.v1+cell": {
     "cellMetadata": {
      "byteLimit": 2048000,
      "rowLimit": 10000
     },
     "inputWidgets": {},
     "nuid": "b681a929-333c-4b0e-aad2-5971c85ac7fd",
     "showTitle": false,
     "tableResultSettingsMap": {},
     "title": ""
    }
   },
   "outputs": [],
   "source": [
    "df['loan_to_value_ratio'] = df['loan_amount'] / df['collateral_value'].replace(0, np.nan)\n",
    "\n",
    "financial_drivers = ['monthly_income', 'loan_amount', 'collateral_value', 'loan_to_value_ratio']\n",
    "target = 'sent_to_analysis'"
   ]
  },
  {
   "cell_type": "code",
   "execution_count": 0,
   "metadata": {
    "application/vnd.databricks.v1+cell": {
     "cellMetadata": {
      "byteLimit": 2048000,
      "rowLimit": 10000
     },
     "inputWidgets": {},
     "nuid": "100dd447-c24e-46be-a580-987c6f8b037d",
     "showTitle": false,
     "tableResultSettingsMap": {},
     "title": ""
    }
   },
   "outputs": [],
   "source": [
    "# Criando um grid de plots para melhor visualização\n",
    "fig, axes = plt.subplots(2, 2, figsize=(18, 12))\n",
    "fig.suptitle('Análise Comparativa dos Fatores Financeiros', fontsize=20, y=1.03)\n",
    "\n",
    "# Flattening the axes array for easy iteration\n",
    "axes = axes.flatten()\n",
    "\n",
    "for i, col in enumerate(financial_drivers):\n",
    "    sns.boxplot(ax=axes[i], x=target, y=col, data=df, palette='viridis')\n",
    "    axes[i].set_title(f'Distribuição de \"{col}\"', fontsize=14)\n",
    "    axes[i].set_xlabel(\"Enviado para Análise (0 = Não, 1 = Sim)\", fontsize=12)\n",
    "    axes[i].set_ylabel(\"Valor\", fontsize=12)\n",
    "    \n",
    "    # Aplicando limites nos eixos Y para melhor visualização, removendo outliers extremos do plot\n",
    "    if col == 'monthly_income':\n",
    "        axes[i].set_ylim(0, df['monthly_income'].quantile(0.95)) # Mostra até o 95º percentil\n",
    "    if col == 'loan_amount':\n",
    "        axes[i].set_ylim(0, df['loan_amount'].quantile(0.95))\n",
    "    if col == 'collateral_value':\n",
    "        axes[i].set_ylim(0, df['collateral_value'].quantile(0.95))\n",
    "    if col == 'loan_to_value_ratio':\n",
    "         axes[i].set_ylim(0, df['loan_to_value_ratio'].quantile(0.95))\n",
    "\n",
    "\n",
    "plt.tight_layout()\n",
    "plt.show()"
   ]
  },
  {
   "cell_type": "code",
   "execution_count": 0,
   "metadata": {
    "application/vnd.databricks.v1+cell": {
     "cellMetadata": {
      "byteLimit": 2048000,
      "rowLimit": 10000
     },
     "inputWidgets": {},
     "nuid": "fd5f5336-11c5-4d10-8b60-dd001c060174",
     "showTitle": false,
     "tableResultSettingsMap": {},
     "title": ""
    }
   },
   "outputs": [],
   "source": [
    "behavioral_drivers = ['channel', 'education_level', 'state']\n",
    "for col in behavioral_drivers:\n",
    "    # Calculando a taxa de conversão (média do target) e ordenando\n",
    "    conversion_rate = df.groupby(col)[target].mean().sort_values(ascending=False)\n",
    "    \n",
    "    # Para 'state', que tem muitas categorias, vamos pegar apenas os 10 principais\n",
    "    if col == 'state':\n",
    "        conversion_rate = conversion_rate.head(10)\n",
    "        \n",
    "    plt.figure(figsize=(12, 7))\n",
    "    ax = sns.barplot(y=conversion_rate.index, x=conversion_rate.values, palette='plasma')\n",
    "    \n",
    "    plt.title(f'Taxa de Conversão (Envio para Análise) por \"{col}\"', fontsize=16)\n",
    "    plt.xlabel('Taxa de Conversão Média', fontsize=12)\n",
    "    plt.ylabel(col, fontsize=12)\n",
    "    \n",
    "    # Adicionando os rótulos de porcentagem nas barras para clareza\n",
    "    for p in ax.patches:\n",
    "        width = p.get_width()\n",
    "        ax.text(width + 0.005, p.get_y() + p.get_height()/2.,\n",
    "                f'{width:.2%}', \n",
    "                ha='left', va='center')\n",
    "    \n",
    "    plt.show()"
   ]
  },
  {
   "cell_type": "code",
   "execution_count": 0,
   "metadata": {
    "application/vnd.databricks.v1+cell": {
     "cellMetadata": {
      "byteLimit": 2048000,
      "rowLimit": 10000
     },
     "inputWidgets": {},
     "nuid": "4a33c6e5-b19d-4803-ba51-515f8f02ec78",
     "showTitle": false,
     "tableResultSettingsMap": {},
     "title": ""
    }
   },
   "outputs": [],
   "source": [
    "conversion_by_form = df.groupby('form_completed')[target].mean().sort_values(ascending=False)\n",
    "\n",
    "plt.figure(figsize=(8, 6))\n",
    "ax = sns.barplot(x=conversion_by_form.index, y=conversion_by_form.values, palette='coolwarm')\n",
    "\n",
    "plt.title('Taxa de Conversão por Preenchimento do Formulário', fontsize=16)\n",
    "plt.ylabel('Taxa de Conversão Média', fontsize=12)\n",
    "plt.xlabel('Formulário Completo (0 = Não, 1 = Sim)', fontsize=12)\n",
    "plt.xticks([0, 1], ['Não Completou', 'Completou'])\n",
    "\n",
    "# Adicionando rótulos de porcentagem\n",
    "for p in ax.patches:\n",
    "    ax.annotate(f'{p.get_height():.2%}', \n",
    "                (p.get_x() + p.get_width() / 2., p.get_height()), \n",
    "                ha='center', va='center', \n",
    "                xytext=(0, 9), \n",
    "                textcoords='offset points')\n",
    "\n",
    "plt.show()\n",
    "\n",
    "print(conversion_by_form)"
   ]
  },
  {
   "cell_type": "code",
   "execution_count": 0,
   "metadata": {
    "application/vnd.databricks.v1+cell": {
     "cellMetadata": {
      "byteLimit": 2048000,
      "rowLimit": 10000
     },
     "inputWidgets": {},
     "nuid": "b8ea7a2a-3f02-4a95-b14a-d7e3ea8ee2ac",
     "showTitle": false,
     "tableResultSettingsMap": {},
     "title": ""
    }
   },
   "outputs": [],
   "source": [
    "target = 'sent_to_analysis'\n",
    "\n",
    "plt.figure(figsize=(10, 7))\n",
    "sns.boxplot(x=target, y='auto_year', data=df, palette='magma')\n",
    "plt.title('Distribuição do Ano do Veículo por Status de Análise', fontsize=16)\n",
    "plt.xlabel('Enviado para Análise (0 = Não, 1 = Sim)', fontsize=12)\n",
    "plt.ylabel('Ano do Veículo', fontsize=12)\n",
    "plt.show()\n",
    "\n",
    "\n",
    "top_10_brands = df['auto_brand'].value_counts().nlargest(10).index\n",
    "\n",
    "# Filtramos o DataFrame para incluir apenas essas marcas\n",
    "df_top_brands = df[df['auto_brand'].isin(top_10_brands)]\n",
    "\n",
    "# Calculamos a taxa de conversão para essas marcas\n",
    "conversion_by_brand = df_top_brands.groupby('auto_brand')[target].mean().sort_values(ascending=False)\n",
    "\n",
    "plt.figure(figsize=(12, 8))\n",
    "ax = sns.barplot(y=conversion_by_brand.index, x=conversion_by_brand.values, palette='viridis')\n",
    "plt.title('Taxa de Conversão para as 10 Principais Marcas de Veículos', fontsize=16)\n",
    "plt.xlabel('Taxa de Conversão Média', fontsize=12)\n",
    "plt.ylabel('Marca do Veículo', fontsize=12)\n",
    "# Adicionando rótulos\n",
    "for p in ax.patches:\n",
    "    width = p.get_width()\n",
    "    ax.text(width + 0.005, p.get_y() + p.get_height()/2., f'{width:.2%}', ha='left', va='center')\n",
    "plt.show()"
   ]
  },
  {
   "cell_type": "code",
   "execution_count": 0,
   "metadata": {
    "application/vnd.databricks.v1+cell": {
     "cellMetadata": {
      "byteLimit": 2048000,
      "rowLimit": 10000
     },
     "inputWidgets": {},
     "nuid": "23279d89-1984-4090-8219-c0cf6d309200",
     "showTitle": false,
     "tableResultSettingsMap": {},
     "title": ""
    }
   },
   "outputs": [],
   "source": [
    "financial_history_flags = [\n",
    "    'dishonored_checks', \n",
    "    'expired_debts', \n",
    "    'banking_debts', \n",
    "    'commercial_debts', \n",
    "    'protests',\n",
    "    'verified_restriction',\n",
    "    'informed_restriction'\n",
    "]\n",
    "\n",
    "# Criando um DataFrame para armazenar os resultados e facilitar a plotagem\n",
    "results = []\n",
    "for col in financial_history_flags:\n",
    "    # Convertendo para um formato binário: 0 = Sem problema, 1 = Com problema\n",
    "    flag_series = (df[col] > 0).astype(int)\n",
    "    \n",
    "    # Calculando a conversão para cada grupo\n",
    "    rates = df.groupby(flag_series)[target].mean()\n",
    "    \n",
    "    results.append({'flag': col, 'Conversion_No_Issue': rates.get(0, 0), 'Conversion_With_Issue': rates.get(1, 0)})\n",
    "\n",
    "df_results = pd.DataFrame(results).set_index('flag')\n",
    "\n",
    "# Plotando os resultados\n",
    "ax = df_results.plot(kind='bar', figsize=(15, 8), colormap='coolwarm_r', rot=45)\n",
    "plt.title('Impacto do Histórico Financeiro Negativo na Conversão', fontsize=16)\n",
    "plt.ylabel('Taxa de Conversão Média', fontsize=12)\n",
    "plt.xlabel('Indicador de Histórico Negativo', fontsize=12)\n",
    "ax.legend([\"Sem Histórico Negativo\", \"Com Histórico Negativo\"])\n",
    "plt.show()\n",
    "\n",
    "# Exibindo a tabela para maior clareza\n",
    "print(\"Tabela de Impacto do Histórico Financeiro:\")\n",
    "print(df_results)"
   ]
  },
  {
   "cell_type": "code",
   "execution_count": 0,
   "metadata": {
    "application/vnd.databricks.v1+cell": {
     "cellMetadata": {},
     "inputWidgets": {},
     "nuid": "97b5e630-6a32-4f8f-8ae4-8441b8ed2674",
     "showTitle": false,
     "tableResultSettingsMap": {},
     "title": ""
    }
   },
   "outputs": [],
   "source": []
  }
 ],
 "metadata": {
  "application/vnd.databricks.v1+notebook": {
   "computePreferences": null,
   "dashboards": [],
   "environmentMetadata": {
    "base_environment": "",
    "environment_version": "3"
   },
   "inputWidgetPreferences": null,
   "language": "python",
   "notebookMetadata": {
    "pythonIndentUnit": 4
   },
   "notebookName": "EDA - dataset limpo",
   "widgets": {}
  },
  "language_info": {
   "name": "python"
  }
 },
 "nbformat": 4,
 "nbformat_minor": 0
}
