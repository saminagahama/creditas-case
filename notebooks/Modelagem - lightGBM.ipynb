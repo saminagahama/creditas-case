{
 "cells": [
  {
   "cell_type": "code",
   "execution_count": 0,
   "metadata": {
    "application/vnd.databricks.v1+cell": {
     "cellMetadata": {
      "byteLimit": 2048000,
      "rowLimit": 10000
     },
     "inputWidgets": {},
     "nuid": "389ba6e2-1f85-4430-b876-67cda17e6b3f",
     "showTitle": false,
     "tableResultSettingsMap": {},
     "title": ""
    }
   },
   "outputs": [],
   "source": [
    "!pip install lightgbm==3.3.5\n",
    "!pip install optuna==2.10.0"
   ]
  },
  {
   "cell_type": "code",
   "execution_count": 0,
   "metadata": {
    "application/vnd.databricks.v1+cell": {
     "cellMetadata": {
      "byteLimit": 2048000,
      "rowLimit": 10000
     },
     "inputWidgets": {},
     "nuid": "6201d102-f62f-49c7-aaa6-80b028d2ca2c",
     "showTitle": false,
     "tableResultSettingsMap": {},
     "title": ""
    }
   },
   "outputs": [],
   "source": [
    "%restart_python"
   ]
  },
  {
   "cell_type": "code",
   "execution_count": 0,
   "metadata": {
    "application/vnd.databricks.v1+cell": {
     "cellMetadata": {
      "byteLimit": 2048000,
      "rowLimit": 10000
     },
     "inputWidgets": {},
     "nuid": "86571872-5fd9-4ba6-be81-a30d46410b8a",
     "showTitle": false,
     "tableResultSettingsMap": {},
     "title": ""
    }
   },
   "outputs": [],
   "source": [
    "import pandas as pd\n",
    "import numpy as np\n",
    "import seaborn as sns\n",
    "import matplotlib.pyplot as plt\n",
    "import warnings\n",
    "from sklearn.model_selection import train_test_split, cross_val_score, StratifiedKFold\n",
    "from sklearn.preprocessing import StandardScaler, OrdinalEncoder\n",
    "from sklearn.compose import ColumnTransformer\n",
    "from sklearn.pipeline import Pipeline\n",
    "import lightgbm as lgb\n",
    "from sklearn.feature_selection import RFECV \n",
    "import optuna\n",
    "from sklearn.metrics import (roc_auc_score, classification_report, \n",
    "                           confusion_matrix, precision_recall_curve, \n",
    "                           average_precision_score, roc_curve)\n",
    "\n",
    "warnings.filterwarnings('ignore')\n",
    "optuna.logging.set_verbosity(optuna.logging.WARNING)"
   ]
  },
  {
   "cell_type": "code",
   "execution_count": 0,
   "metadata": {
    "application/vnd.databricks.v1+cell": {
     "cellMetadata": {
      "byteLimit": 2048000,
      "rowLimit": 10000
     },
     "inputWidgets": {},
     "nuid": "4d3fe91d-ebc5-4079-bc0a-7a561334f441",
     "showTitle": false,
     "tableResultSettingsMap": {},
     "title": ""
    }
   },
   "outputs": [],
   "source": [
    "plt.style.use('seaborn-v0_8')\n",
    "sns.set_palette(\"husl\")"
   ]
  },
  {
   "cell_type": "code",
   "execution_count": 0,
   "metadata": {
    "application/vnd.databricks.v1+cell": {
     "cellMetadata": {
      "byteLimit": 2048000,
      "rowLimit": 10000
     },
     "inputWidgets": {},
     "nuid": "8d327de3-99d1-4cf5-be72-ab3b2bee2733",
     "showTitle": false,
     "tableResultSettingsMap": {},
     "title": ""
    }
   },
   "outputs": [],
   "source": [
    "df = pd.read_csv('/Workspace/Users/nagahamasami@gmail.com/creditas-case/data/processed/clean-dataset.csv')\n",
    "df.head()"
   ]
  },
  {
   "cell_type": "markdown",
   "metadata": {
    "application/vnd.databricks.v1+cell": {
     "cellMetadata": {
      "byteLimit": 2048000,
      "rowLimit": 10000
     },
     "inputWidgets": {},
     "nuid": "ede43b7a-0897-4d88-8599-7111edce02d4",
     "showTitle": false,
     "tableResultSettingsMap": {},
     "title": ""
    }
   },
   "source": [
    "# Remoção de valores nulos"
   ]
  },
  {
   "cell_type": "markdown",
   "metadata": {
    "application/vnd.databricks.v1+cell": {
     "cellMetadata": {
      "byteLimit": 2048000,
      "rowLimit": 10000
     },
     "inputWidgets": {},
     "nuid": "00c07574-1629-4dc9-95c2-b56692797807",
     "showTitle": false,
     "tableResultSettingsMap": {},
     "title": ""
    }
   },
   "source": [
    "Aqui, opto pela remoção no lugar da imputação em razão do risco de data leakage."
   ]
  },
  {
   "cell_type": "code",
   "execution_count": 0,
   "metadata": {
    "application/vnd.databricks.v1+cell": {
     "cellMetadata": {
      "byteLimit": 2048000,
      "rowLimit": 10000
     },
     "inputWidgets": {},
     "nuid": "82ca350e-e841-4e45-999a-a7e95e15dc7e",
     "showTitle": false,
     "tableResultSettingsMap": {},
     "title": ""
    }
   },
   "outputs": [],
   "source": [
    "initial_rows = len(df)\n",
    "df.dropna(inplace=True)\n",
    "final_rows = len(df)\n",
    "print(f\"Removendo valores nulos. {initial_rows - final_rows} linhas removidas ({((initial_rows - final_rows) / initial_rows):.2%} do dataset).\")"
   ]
  },
  {
   "cell_type": "markdown",
   "metadata": {
    "application/vnd.databricks.v1+cell": {
     "cellMetadata": {
      "byteLimit": 2048000,
      "rowLimit": 10000
     },
     "inputWidgets": {},
     "nuid": "9383f3da-ba5a-4857-be07-3efd33019150",
     "showTitle": false,
     "tableResultSettingsMap": {},
     "title": ""
    }
   },
   "source": [
    "# Feature Engineering"
   ]
  },
  {
   "cell_type": "code",
   "execution_count": 0,
   "metadata": {
    "application/vnd.databricks.v1+cell": {
     "cellMetadata": {
      "byteLimit": 2048000,
      "rowLimit": 10000
     },
     "inputWidgets": {},
     "nuid": "cd6bec08-35c4-4ba4-a916-90d63363ccd4",
     "showTitle": false,
     "tableResultSettingsMap": {},
     "title": ""
    }
   },
   "outputs": [],
   "source": [
    "def feature_engineering(df):\n",
    "    \"\"\"Criação de novas features.\"\"\"\n",
    "    \n",
    "    # Features de dívida\n",
    "    debt_columns = ['dishonored_checks', 'expired_debts', 'banking_debts', \n",
    "                   'commercial_debts', 'protests', 'verified_restriction', \n",
    "                   'informed_restriction']\n",
    "    \n",
    "    df['total_debts'] = df[debt_columns].sum(axis=1)\n",
    "    df['has_any_debt'] = (df['total_debts'] > 0).astype(int)\n",
    "    df['multiple_debts'] = (df['total_debts'] > 1).astype(int)\n",
    "    \n",
    "    # Features financeiras\n",
    "    df['loan_to_income_ratio'] = df['loan_amount'] / (df['monthly_income'] + 1e-6)\n",
    "    df['loan_to_value_ratio'] = df['loan_amount'] / (df['collateral_value'] + 1e-6)\n",
    "    df['income_to_value_ratio'] = df['monthly_income'] / (df['collateral_value'] + 1e-6)\n",
    "    \n",
    "    # Features temporais\n",
    "    df['car_age'] = 2017 - df['auto_year']  \n",
    "    df['is_old_car'] = (df['car_age'] > 10).astype(int)\n",
    "    \n",
    "    # Features de comportamento\n",
    "    df['high_loan_request'] = (df['loan_amount'] > df['loan_amount'].median()).astype(int)\n",
    "    df['low_income_high_loan'] = ((df['loan_to_income_ratio'] > 2) & \n",
    "                                (df['monthly_income'] < df['monthly_income'].median())).astype(int)\n",
    "    \n",
    "    return df"
   ]
  },
  {
   "cell_type": "code",
   "execution_count": 0,
   "metadata": {
    "application/vnd.databricks.v1+cell": {
     "cellMetadata": {
      "byteLimit": 2048000,
      "rowLimit": 10000
     },
     "inputWidgets": {},
     "nuid": "2a99f06f-ca74-4f20-a641-e83c25417262",
     "showTitle": false,
     "tableResultSettingsMap": {},
     "title": ""
    }
   },
   "outputs": [],
   "source": [
    "df = feature_engineering(df)\n",
    "print(f\"Número de features após engineering: {len(df.columns)}\")"
   ]
  },
  {
   "cell_type": "markdown",
   "metadata": {
    "application/vnd.databricks.v1+cell": {
     "cellMetadata": {
      "byteLimit": 2048000,
      "rowLimit": 10000
     },
     "inputWidgets": {},
     "nuid": "bc2e2d87-8cb9-4485-860f-4dd7e583d1f3",
     "showTitle": false,
     "tableResultSettingsMap": {},
     "title": ""
    }
   },
   "source": [
    "# Pré-processamento"
   ]
  },
  {
   "cell_type": "code",
   "execution_count": 0,
   "metadata": {
    "application/vnd.databricks.v1+cell": {
     "cellMetadata": {
      "byteLimit": 2048000,
      "rowLimit": 10000
     },
     "inputWidgets": {},
     "nuid": "caf643d1-2098-4188-9421-d2b62713b46d",
     "showTitle": false,
     "tableResultSettingsMap": {},
     "title": ""
    }
   },
   "outputs": [],
   "source": [
    "TARGET = 'sent_to_analysis'\n",
    "\n",
    "# Features a serem excluídas \n",
    "excluded_features = [\n",
    "    'id',  # Identificador único\n",
    "    'pre_approved',  # Já filtramos por isso\n",
    "    'zip_code',  # Muita cardinalidade\n",
    "    'auto_model',  # Muita cardinalidade\n",
    "    'landing_page',  # Variável operacional\n",
    "    'landing_page_product'  # Variável operacional\n",
    "]"
   ]
  },
  {
   "cell_type": "code",
   "execution_count": 0,
   "metadata": {
    "application/vnd.databricks.v1+cell": {
     "cellMetadata": {
      "byteLimit": 2048000,
      "rowLimit": 10000
     },
     "inputWidgets": {},
     "nuid": "aeeeb68e-040b-47c9-b4c2-f5da7142ed58",
     "showTitle": false,
     "tableResultSettingsMap": {},
     "title": ""
    }
   },
   "outputs": [],
   "source": [
    "y = df[TARGET]\n",
    "X = df.drop(columns=[TARGET] + excluded_features)"
   ]
  },
  {
   "cell_type": "code",
   "execution_count": 0,
   "metadata": {
    "application/vnd.databricks.v1+cell": {
     "cellMetadata": {
      "byteLimit": 2048000,
      "rowLimit": 10000
     },
     "inputWidgets": {},
     "nuid": "85253249-8d1e-49d6-99d3-5be17760d8a2",
     "showTitle": false,
     "tableResultSettingsMap": {},
     "title": ""
    }
   },
   "outputs": [],
   "source": [
    "numeric_features = X.select_dtypes(include=[np.number]).columns.tolist()\n",
    "categorical_features = X.select_dtypes(include=['object']).columns.tolist()"
   ]
  },
  {
   "cell_type": "code",
   "execution_count": 0,
   "metadata": {
    "application/vnd.databricks.v1+cell": {
     "cellMetadata": {
      "byteLimit": 2048000,
      "rowLimit": 10000
     },
     "inputWidgets": {},
     "nuid": "dba6f2fa-2fdd-49e6-a203-6e328de47753",
     "showTitle": false,
     "tableResultSettingsMap": {},
     "title": ""
    }
   },
   "outputs": [],
   "source": [
    "print(f\"Features numéricas ({len(numeric_features)}): {numeric_features}\")\n",
    "print(f\"Features categóricas ({len(categorical_features)}): {categorical_features}\")"
   ]
  },
  {
   "cell_type": "code",
   "execution_count": 0,
   "metadata": {
    "application/vnd.databricks.v1+cell": {
     "cellMetadata": {
      "byteLimit": 2048000,
      "rowLimit": 10000
     },
     "inputWidgets": {},
     "nuid": "00b211f8-41e5-4212-9a15-85f503de8a73",
     "showTitle": false,
     "tableResultSettingsMap": {},
     "title": ""
    }
   },
   "outputs": [],
   "source": [
    "X_train, X_test, y_train, y_test = train_test_split(\n",
    "    X, y, \n",
    "    test_size=0.2, \n",
    "    random_state=42, \n",
    "    stratify=y\n",
    ")"
   ]
  },
  {
   "cell_type": "code",
   "execution_count": 0,
   "metadata": {
    "application/vnd.databricks.v1+cell": {
     "cellMetadata": {
      "byteLimit": 2048000,
      "rowLimit": 10000
     },
     "inputWidgets": {},
     "nuid": "0f35b719-42fa-497f-a05a-82a76f80713b",
     "showTitle": false,
     "tableResultSettingsMap": {},
     "title": ""
    }
   },
   "outputs": [],
   "source": [
    "for col in categorical_features:\n",
    "    X_train[col] = X_train[col].astype('category')\n",
    "    X_test[col] = X_test[col].astype('category')\n",
    "\n",
    "print(\"\\nTipos de dados após conversão:\")\n",
    "print(X_train.dtypes)"
   ]
  },
  {
   "cell_type": "code",
   "execution_count": 0,
   "metadata": {
    "application/vnd.databricks.v1+cell": {
     "cellMetadata": {
      "byteLimit": 2048000,
      "rowLimit": 10000
     },
     "inputWidgets": {},
     "nuid": "810542b2-9b69-4e97-96c4-12a9f61cbd53",
     "showTitle": false,
     "tableResultSettingsMap": {},
     "title": ""
    }
   },
   "outputs": [],
   "source": [
    "print(f\"\\n=== DIVISÃO DOS DADOS ===\")\n",
    "print(f\"Treino: {X_train.shape[0]} amostras\")\n",
    "print(f\"Teste: {X_test.shape[0]} amostras\")\n",
    "print(f\"Proporção target treino: {y_train.mean():.2%}\")\n",
    "print(f\"Proporção target teste: {y_test.mean():.2%}\")"
   ]
  },
  {
   "cell_type": "code",
   "execution_count": 0,
   "metadata": {
    "application/vnd.databricks.v1+cell": {
     "cellMetadata": {
      "byteLimit": 2048000,
      "rowLimit": 10000
     },
     "inputWidgets": {},
     "nuid": "7a9b808d-ed28-4a04-b4cd-bdaf8cd51f6e",
     "showTitle": false,
     "tableResultSettingsMap": {},
     "title": ""
    }
   },
   "outputs": [],
   "source": [
    "numeric_transformer = Pipeline(steps=[(\"scaler\", StandardScaler())])"
   ]
  },
  {
   "cell_type": "code",
   "execution_count": 0,
   "metadata": {
    "application/vnd.databricks.v1+cell": {
     "cellMetadata": {
      "byteLimit": 2048000,
      "rowLimit": 10000
     },
     "inputWidgets": {},
     "nuid": "32ea2283-20c1-4a2e-9ebb-326b5e37f5fa",
     "showTitle": false,
     "tableResultSettingsMap": {},
     "title": ""
    }
   },
   "outputs": [],
   "source": [
    "categorical_transformer = Pipeline(\n",
    "    steps=[(\"ordinal\", OrdinalEncoder(handle_unknown=\"use_encoded_value\", unknown_value=-1))]\n",
    ")"
   ]
  },
  {
   "cell_type": "code",
   "execution_count": 0,
   "metadata": {
    "application/vnd.databricks.v1+cell": {
     "cellMetadata": {
      "byteLimit": 2048000,
      "rowLimit": 10000
     },
     "inputWidgets": {},
     "nuid": "5b299c33-a994-4777-a1d5-50336875d669",
     "showTitle": false,
     "tableResultSettingsMap": {},
     "title": ""
    }
   },
   "outputs": [],
   "source": [
    "preprocessor = ColumnTransformer(\n",
    "    transformers=[\n",
    "        ('num', numeric_transformer, numeric_features),\n",
    "        ('cat', categorical_transformer, categorical_features)\n",
    "    ],\n",
    "    remainder='passthrough'\n",
    ")"
   ]
  },
  {
   "cell_type": "markdown",
   "metadata": {
    "application/vnd.databricks.v1+cell": {
     "cellMetadata": {
      "byteLimit": 2048000,
      "rowLimit": 10000
     },
     "inputWidgets": {},
     "nuid": "08f02657-e8f1-4c6f-8f42-808d9fa427b6",
     "showTitle": false,
     "tableResultSettingsMap": {},
     "title": ""
    }
   },
   "source": [
    "# Seleção de Features"
   ]
  },
  {
   "cell_type": "code",
   "execution_count": 0,
   "metadata": {
    "application/vnd.databricks.v1+cell": {
     "cellMetadata": {
      "byteLimit": 2048000,
      "rowLimit": 10000
     },
     "inputWidgets": {},
     "nuid": "caf6a0a8-aa22-4d65-87f1-d82052a84d21",
     "showTitle": false,
     "tableResultSettingsMap": {},
     "title": ""
    }
   },
   "outputs": [],
   "source": [
    "rfe_estimator = lgb.LGBMClassifier(random_state=42, class_weight='balanced')\n",
    "selector = RFECV(\n",
    "    estimator=rfe_estimator, step=1, cv=StratifiedKFold(3), scoring='roc_auc', n_jobs=-1\n",
    ")\n",
    "\n",
    "feature_selection_pipeline = Pipeline(steps=[('preprocessor', preprocessor), ('selector', selector)])\n",
    "feature_selection_pipeline.fit(X_train, y_train)\n",
    "\n",
    "selected_mask = feature_selection_pipeline.named_steps['selector'].get_support()\n",
    "all_original_features = np.array(numeric_features + categorical_features)\n",
    "selected_feature_names = all_original_features[selected_mask].tolist()\n",
    "print(f\"Número ótimo de features selecionado: {len(selected_feature_names)}\")\n",
    "removed_mask = ~selected_mask\n",
    "removed_feature_names = all_original_features[removed_mask].tolist()\n",
    "print(\"Features selecionadas:\")\n",
    "print(selected_feature_names)\n",
    "print(\"\\nFeatures removidas:\")\n",
    "print(removed_feature_names)"
   ]
  },
  {
   "cell_type": "code",
   "execution_count": 0,
   "metadata": {
    "application/vnd.databricks.v1+cell": {
     "cellMetadata": {
      "byteLimit": 2048000,
      "rowLimit": 10000
     },
     "inputWidgets": {},
     "nuid": "78555243-f84a-4c9f-ba7b-eb9626a4a4d0",
     "showTitle": false,
     "tableResultSettingsMap": {},
     "title": ""
    }
   },
   "outputs": [],
   "source": [
    "X_train_selected = X_train[selected_feature_names]\n",
    "X_test_selected = X_test[selected_feature_names]\n",
    "\n",
    "selected_numeric_features = [f for f in numeric_features if f in selected_feature_names]\n",
    "selected_categorical_features = [f for f in categorical_features if f in selected_feature_names]\n",
    "\n",
    "preprocessor_selected = ColumnTransformer(\n",
    "    transformers=[\n",
    "        ('num', numeric_transformer, selected_numeric_features),\n",
    "        ('cat', categorical_transformer, selected_categorical_features)\n",
    "    ]\n",
    ")\n"
   ]
  },
  {
   "cell_type": "markdown",
   "metadata": {
    "application/vnd.databricks.v1+cell": {
     "cellMetadata": {
      "byteLimit": 2048000,
      "rowLimit": 10000
     },
     "inputWidgets": {},
     "nuid": "08449ae4-666b-4e12-bba5-8f96264aece1",
     "showTitle": false,
     "tableResultSettingsMap": {},
     "title": ""
    }
   },
   "source": [
    "# Otimização"
   ]
  },
  {
   "cell_type": "code",
   "execution_count": 0,
   "metadata": {
    "application/vnd.databricks.v1+cell": {
     "cellMetadata": {
      "byteLimit": 2048000,
      "rowLimit": 10000
     },
     "inputWidgets": {},
     "nuid": "ba2d516e-c09d-4abe-b3d6-d80fd09698cd",
     "showTitle": false,
     "tableResultSettingsMap": {},
     "title": ""
    }
   },
   "outputs": [],
   "source": [
    "def objective(trial):\n",
    "    pos_weight = y_train.value_counts()[0] / y_train.value_counts()[1]\n",
    "\n",
    "    param_grid = {\n",
    "        \"objective\": \"binary\",\n",
    "        \"random_state\": 42,\n",
    "        \"scale_pos_weight\": trial.suggest_categorical(\"scale_pos_weight\", [1.0, 10]),\n",
    "        \"n_estimators\": trial.suggest_int(\"n_estimators\", 200, 2000, step=50),\n",
    "        \"learning_rate\": trial.suggest_float(\"learning_rate\", 0.01, 0.1, log=True),\n",
    "        \"num_leaves\": trial.suggest_int(\"num_leaves\", 20, 300),\n",
    "        \"max_depth\": trial.suggest_int(\"max_depth\", 3, 15),\n",
    "        \"subsample\": trial.suggest_float(\"subsample\", 0.5, 1.0),\n",
    "        \"colsample_bytree\": trial.suggest_float(\"colsample_bytree\", 0.5, 1.0),\n",
    "        \"reg_alpha\": trial.suggest_float(\"reg_alpha\", 1e-8, 10.0, log=True),\n",
    "        \"reg_lambda\": trial.suggest_float(\"reg_lambda\", 1e-8, 10.0, log=True),\n",
    "        \"min_child_samples\": trial.suggest_int(\"min_child_samples\", 5, 100),\n",
    "    }\n",
    "\n",
    "    lgbm = lgb.LGBMClassifier(**param_grid)\n",
    "    pipeline = Pipeline(steps=[(\"preprocessor\", preprocessor_selected), (\"classifier\", lgbm)])\n",
    "    score = cross_val_score(\n",
    "        pipeline, \n",
    "        X_train_selected, \n",
    "        y_train, \n",
    "        cv=5, \n",
    "        scoring=\"roc_auc\", \n",
    "        n_jobs=-1\n",
    "    )\n",
    "\n",
    "    return score.mean()\n"
   ]
  },
  {
   "cell_type": "code",
   "execution_count": 0,
   "metadata": {
    "application/vnd.databricks.v1+cell": {
     "cellMetadata": {
      "byteLimit": 2048000,
      "rowLimit": 10000
     },
     "inputWidgets": {},
     "nuid": "12fdd59f-85b9-4dfc-9ee3-943aa6452e61",
     "showTitle": false,
     "tableResultSettingsMap": {},
     "title": ""
    }
   },
   "outputs": [],
   "source": [
    "study = optuna.create_study(direction='maximize')\n",
    "study.optimize(objective, n_trials=50) \n",
    "\n",
    "print(f\"Melhor score (ROC-AUC) na validação cruzada: {study.best_value:.4f}\")\n",
    "print(\"Melhores hiperparâmetros encontrados:\")\n",
    "print(study.best_params)"
   ]
  },
  {
   "cell_type": "markdown",
   "metadata": {
    "application/vnd.databricks.v1+cell": {
     "cellMetadata": {
      "byteLimit": 2048000,
      "rowLimit": 10000
     },
     "inputWidgets": {},
     "nuid": "68efa164-e5e6-475a-96a0-c3d014aff698",
     "showTitle": false,
     "tableResultSettingsMap": {},
     "title": ""
    }
   },
   "source": [
    "# Treinamento"
   ]
  },
  {
   "cell_type": "code",
   "execution_count": 0,
   "metadata": {
    "application/vnd.databricks.v1+cell": {
     "cellMetadata": {
      "byteLimit": 2048000,
      "rowLimit": 10000
     },
     "inputWidgets": {},
     "nuid": "16bab2ee-6563-4293-b1d9-d9a8f3f2be01",
     "showTitle": false,
     "tableResultSettingsMap": {},
     "title": ""
    }
   },
   "outputs": [],
   "source": [
    "best_params = study.best_params\n",
    "\n",
    "use_weight = best_params.pop('use_scale_pos_weight', False) \n",
    "\n",
    "final_lgbm_params = {\n",
    "    'objective': 'binary',\n",
    "    'random_state': 42,\n",
    "    **best_params\n",
    "}\n",
    "\n",
    "if use_weight:\n",
    "    pos_weight = y_train.value_counts()[0] / y_train.value_counts()[1]\n",
    "    final_lgbm_params['scale_pos_weight'] = pos_weight\n",
    "\n",
    "final_lgbm = lgb.LGBMClassifier(**final_lgbm_params)\n",
    "final_pipeline = Pipeline(steps=[\n",
    "    ('preprocessor', preprocessor_selected),\n",
    "    ('classifier', final_lgbm)\n",
    "])\n",
    "\n",
    "final_pipeline.fit(X_train_selected, y_train)"
   ]
  },
  {
   "cell_type": "markdown",
   "metadata": {
    "application/vnd.databricks.v1+cell": {
     "cellMetadata": {
      "byteLimit": 2048000,
      "rowLimit": 10000
     },
     "inputWidgets": {},
     "nuid": "690bb6f1-b635-413f-83b6-d546eefb8f0b",
     "showTitle": false,
     "tableResultSettingsMap": {},
     "title": ""
    }
   },
   "source": [
    "# Avaliação"
   ]
  },
  {
   "cell_type": "code",
   "execution_count": 0,
   "metadata": {
    "application/vnd.databricks.v1+cell": {
     "cellMetadata": {
      "byteLimit": 2048000,
      "rowLimit": 10000
     },
     "inputWidgets": {},
     "nuid": "7be1d40b-758f-4c2d-916e-747221675bd6",
     "showTitle": false,
     "tableResultSettingsMap": {},
     "title": ""
    }
   },
   "outputs": [],
   "source": [
    "def evaluate_model(model, X_test, y_test):\n",
    "    y_pred = model.predict(X_test)\n",
    "    y_pred_proba = model.predict_proba(X_test)[:, 1]\n",
    "    \n",
    "    auc_score = roc_auc_score(y_test, y_pred_proba)\n",
    "    ap_score = average_precision_score(y_test, y_pred_proba)\n",
    "    \n",
    "    print(f\"AUC-ROC: {auc_score:.4f}\")\n",
    "    print(f\"Average Precision (AP): {ap_score:.4f}\")\n",
    "    print(\"\\nRelatório de Classificação:\")\n",
    "    print(classification_report(y_test, y_pred))\n",
    "    \n",
    "    fig, axes = plt.subplots(1, 3, figsize=(21, 6))\n",
    "    cm = confusion_matrix(y_test, y_pred)\n",
    "    sns.heatmap(cm, annot=True, fmt='d', cmap='Blues', ax=axes[0])\n",
    "    axes[0].set_title('Matriz de Confusão')\n",
    "    \n",
    "    fpr, tpr, _ = roc_curve(y_test, y_pred_proba)\n",
    "    axes[1].plot(fpr, tpr, label=f'AUC = {auc_score:.3f}')\n",
    "    axes[1].plot([0, 1], [0, 1], 'k--'); axes[1].set_title('Curva ROC'); axes[1].legend()\n",
    "    \n",
    "    precision, recall, _ = precision_recall_curve(y_test, y_pred_proba)\n",
    "    axes[2].plot(recall, precision, label=f'AP = {ap_score:.3f}')\n",
    "    axes[2].set_title('Curva Precision-Recall'); axes[2].legend()\n",
    "    \n",
    "    plt.tight_layout(); plt.show()\n",
    "    return auc_score, ap_score"
   ]
  },
  {
   "cell_type": "code",
   "execution_count": 0,
   "metadata": {
    "application/vnd.databricks.v1+cell": {
     "cellMetadata": {
      "byteLimit": 2048000,
      "rowLimit": 10000
     },
     "inputWidgets": {},
     "nuid": "1b896aec-443c-4558-afbd-6dd181b96998",
     "showTitle": false,
     "tableResultSettingsMap": {},
     "title": ""
    }
   },
   "outputs": [],
   "source": [
    "auc_score, ap_score = evaluate_model(final_pipeline, X_test, y_test)"
   ]
  },
  {
   "cell_type": "markdown",
   "metadata": {
    "application/vnd.databricks.v1+cell": {
     "cellMetadata": {
      "byteLimit": 2048000,
      "rowLimit": 10000
     },
     "inputWidgets": {},
     "nuid": "ffe8076c-fd64-44e4-af2f-2f834e9d47aa",
     "showTitle": false,
     "tableResultSettingsMap": {},
     "title": ""
    }
   },
   "source": [
    "# Fila de prioridades"
   ]
  },
  {
   "cell_type": "code",
   "execution_count": 0,
   "metadata": {
    "application/vnd.databricks.v1+cell": {
     "cellMetadata": {
      "byteLimit": 2048000,
      "rowLimit": 10000
     },
     "inputWidgets": {},
     "nuid": "8ef22479-cb30-4519-9409-398cb6f953c8",
     "showTitle": false,
     "tableResultSettingsMap": {},
     "title": ""
    }
   },
   "outputs": [],
   "source": [
    "def generate_priority_queue(model, X_data, original_data_indices):    \n",
    "    probabilities = model.predict_proba(X_data)[:, 1]\n",
    "    priority_df = pd.DataFrame({\n",
    "        'client_id': original_data_indices, \n",
    "        'probability_score': probabilities\n",
    "    })\n",
    "    priority_df_sorted = priority_df.sort_values(\n",
    "        by='probability_score', ascending=False\n",
    "    ).reset_index(drop=True)\n",
    "    \n",
    "    return priority_df_sorted"
   ]
  },
  {
   "cell_type": "code",
   "execution_count": 0,
   "metadata": {
    "application/vnd.databricks.v1+cell": {
     "cellMetadata": {
      "byteLimit": 2048000,
      "rowLimit": 10000
     },
     "inputWidgets": {},
     "nuid": "dccf9d47-5da0-44e6-880c-49be897f2eaa",
     "showTitle": false,
     "tableResultSettingsMap": {},
     "title": ""
    }
   },
   "outputs": [],
   "source": [
    "priority_list = generate_priority_queue(final_pipeline, X_test, X_test.index)\n",
    "\n",
    "print(\"Top 10 clientes para contato prioritário:\")\n",
    "print(priority_list.head(10))"
   ]
  },
  {
   "cell_type": "markdown",
   "metadata": {
    "application/vnd.databricks.v1+cell": {
     "cellMetadata": {
      "byteLimit": 2048000,
      "rowLimit": 10000
     },
     "inputWidgets": {},
     "nuid": "ed1d9350-9b54-4344-8fcd-33a952bd7259",
     "showTitle": false,
     "tableResultSettingsMap": {},
     "title": ""
    }
   },
   "source": [
    "# Feature Importance"
   ]
  },
  {
   "cell_type": "code",
   "execution_count": 0,
   "metadata": {
    "application/vnd.databricks.v1+cell": {
     "cellMetadata": {
      "byteLimit": 2048000,
      "rowLimit": 10000
     },
     "inputWidgets": {},
     "nuid": "871c8559-0325-480e-90b0-b24ad2a13cb6",
     "showTitle": false,
     "tableResultSettingsMap": {},
     "title": ""
    }
   },
   "outputs": [],
   "source": [
    "def display_feature_importance(pipeline, X_train_data):\n",
    "    classifier = pipeline.named_steps['classifier']\n",
    "    importances = classifier.feature_importances_\n",
    "    feature_names = X_train_data.columns\n",
    "    \n",
    "    importance_df = pd.DataFrame({\n",
    "        'feature': feature_names,\n",
    "        'importance': importances\n",
    "    }).sort_values('importance', ascending=False)\n",
    "        \n",
    "    plt.figure(figsize=(12, 8))\n",
    "    sns.barplot(\n",
    "        data=importance_df.head(20), \n",
    "        x='importance', \n",
    "        y='feature',\n",
    "        palette='viridis' \n",
    "    )\n",
    "    plt.title('Top 20 Features Mais Importantes para o Modelo')\n",
    "    plt.xlabel('Importância (Feature Importance)')\n",
    "    plt.ylabel('Feature')\n",
    "    plt.tight_layout()\n",
    "    plt.show()\n",
    "    \n",
    "    return importance_df\n"
   ]
  },
  {
   "cell_type": "code",
   "execution_count": 0,
   "metadata": {
    "application/vnd.databricks.v1+cell": {
     "cellMetadata": {
      "byteLimit": 2048000,
      "rowLimit": 10000
     },
     "inputWidgets": {},
     "nuid": "d7077736-195f-409b-9bcb-8b94c61d4a40",
     "showTitle": false,
     "tableResultSettingsMap": {},
     "title": ""
    }
   },
   "outputs": [],
   "source": [
    "importance_df = display_feature_importance(final_pipeline, X_train_selected)"
   ]
  },
  {
   "cell_type": "markdown",
   "metadata": {
    "application/vnd.databricks.v1+cell": {
     "cellMetadata": {
      "byteLimit": 2048000,
      "rowLimit": 10000
     },
     "inputWidgets": {},
     "nuid": "6abbdd94-ab3d-4b06-a9c0-3c644ed541b3",
     "showTitle": false,
     "tableResultSettingsMap": {},
     "title": ""
    }
   },
   "source": [
    "# Análise de impacto de Negócio"
   ]
  },
  {
   "cell_type": "code",
   "execution_count": 0,
   "metadata": {
    "application/vnd.databricks.v1+cell": {
     "cellMetadata": {
      "byteLimit": 2048000,
      "rowLimit": 10000
     },
     "inputWidgets": {},
     "nuid": "0d4e3df6-8498-42fa-9c49-2673b26ea606",
     "showTitle": false,
     "tableResultSettingsMap": {},
     "title": ""
    }
   },
   "outputs": [],
   "source": [
    "def business_impact_analysis(model, X_test, y_test):\n",
    "    y_pred_proba = model.predict_proba(X_test)[:, 1]\n",
    "    results = []\n",
    "    \n",
    "    for threshold in np.arange(0.1, 1.0, 0.05):\n",
    "        y_pred = (y_pred_proba >= threshold).astype(int)\n",
    "        tn, fp, fn, tp = confusion_matrix(y_test, y_pred).ravel()\n",
    "        \n",
    "        cost_fp = 100 \n",
    "        cost_fn = 500\n",
    "        \n",
    "        total_cost = (fp * cost_fp) + (fn * cost_fn)\n",
    "        results.append({'threshold': threshold, 'cost': total_cost, 'recall': tp / (tp + fn)})\n",
    "    \n",
    "    results_df = pd.DataFrame(results)\n",
    "    optimal_threshold = results_df.loc[results_df['cost'].idxmin()]\n",
    "    \n",
    "    print(f\"Threshold ótimo (menor custo): {optimal_threshold['threshold']:.2f}\")\n",
    "    print(f\"Custo mínimo: R$ {optimal_threshold['cost']:,.2f}\")\n",
    "    print(f\"Recall nesse threshold: {optimal_threshold['recall']:.2%}\")\n",
    "    \n",
    "    results_df.plot(x='threshold', y='cost', grid=True, title='Custo Total vs. Threshold de Decisão')\n",
    "    plt.axvline(optimal_threshold['threshold'], color='red', linestyle='--', label=f'Ótimo: {optimal_threshold[\"threshold\"]:.2f}')\n",
    "    plt.legend(); plt.show()\n",
    "    return results_df\n"
   ]
  },
  {
   "cell_type": "code",
   "execution_count": 0,
   "metadata": {
    "application/vnd.databricks.v1+cell": {
     "cellMetadata": {
      "byteLimit": 2048000,
      "rowLimit": 10000
     },
     "inputWidgets": {},
     "nuid": "33741bca-32f4-4d8f-84b9-05ae84adf140",
     "showTitle": false,
     "tableResultSettingsMap": {},
     "title": ""
    }
   },
   "outputs": [],
   "source": [
    "business_results = business_impact_analysis(final_pipeline, X_test, y_test)"
   ]
  },
  {
   "cell_type": "code",
   "execution_count": 0,
   "metadata": {
    "application/vnd.databricks.v1+cell": {
     "cellMetadata": {
      "byteLimit": 2048000,
      "rowLimit": 10000
     },
     "inputWidgets": {},
     "nuid": "30e554b2-5915-45bf-8a3d-a6a39a456fc5",
     "showTitle": false,
     "tableResultSettingsMap": {},
     "title": ""
    }
   },
   "outputs": [],
   "source": [
    "def benchmark_comparison(model_auc, X_test, y_test):\n",
    "    benchmarks = {'Modelo LGBM Otimizado': model_auc}\n",
    "    benchmarks['Aleatório'] = 0.5\n",
    "    benchmarks['Prioridade por Renda'] = roc_auc_score(y_test, X_test['monthly_income'])\n",
    "    benchmarks['Prioridade por LTV'] = roc_auc_score(y_test, -X_test['loan_to_value_ratio'])\n",
    "    \n",
    "    benchmark_df = pd.DataFrame.from_dict(benchmarks, orient='index', columns=['AUC']).sort_values('AUC', ascending=False)\n",
    "    print(benchmark_df)\n",
    "    \n",
    "    benchmark_df.plot(kind='bar', legend=False, title='Comparação de Performance (AUC)')\n",
    "    plt.ylabel('Score AUC'); plt.xticks(rotation=45, ha='right'); plt.tight_layout(); plt.show()\n",
    "    return benchmark_df\n"
   ]
  },
  {
   "cell_type": "code",
   "execution_count": 0,
   "metadata": {
    "application/vnd.databricks.v1+cell": {
     "cellMetadata": {
      "byteLimit": 2048000,
      "rowLimit": 10000
     },
     "inputWidgets": {},
     "nuid": "b5eec8f1-a40d-4223-9ef4-86e71e43197d",
     "showTitle": false,
     "tableResultSettingsMap": {},
     "title": ""
    }
   },
   "outputs": [],
   "source": [
    "benchmark_df = benchmark_comparison(auc_score, X_test, y_test)"
   ]
  }
 ],
 "metadata": {
  "application/vnd.databricks.v1+notebook": {
   "computePreferences": null,
   "dashboards": [],
   "environmentMetadata": {
    "base_environment": "",
    "environment_version": "3"
   },
   "inputWidgetPreferences": null,
   "language": "python",
   "notebookMetadata": {
    "pythonIndentUnit": 4
   },
   "notebookName": "Modelagem - lightGBM",
   "widgets": {}
  },
  "language_info": {
   "name": "python"
  }
 },
 "nbformat": 4,
 "nbformat_minor": 0
}
