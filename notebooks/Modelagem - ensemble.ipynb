{
 "cells": [
  {
   "cell_type": "code",
   "execution_count": 0,
   "metadata": {
    "application/vnd.databricks.v1+cell": {
     "cellMetadata": {
      "byteLimit": 2048000,
      "rowLimit": 10000
     },
     "inputWidgets": {},
     "nuid": "389ba6e2-1f85-4430-b876-67cda17e6b3f",
     "showTitle": false,
     "tableResultSettingsMap": {},
     "title": ""
    }
   },
   "outputs": [],
   "source": [
    "!pip install lightgbm==3.3.5\n",
    "!pip install optuna==2.10.0\n",
    "!pip install xgboost\n",
    "!pip install scikit-plot"
   ]
  },
  {
   "cell_type": "code",
   "execution_count": 0,
   "metadata": {
    "application/vnd.databricks.v1+cell": {
     "cellMetadata": {
      "byteLimit": 2048000,
      "rowLimit": 10000
     },
     "inputWidgets": {},
     "nuid": "6201d102-f62f-49c7-aaa6-80b028d2ca2c",
     "showTitle": false,
     "tableResultSettingsMap": {},
     "title": ""
    }
   },
   "outputs": [],
   "source": [
    "%restart_python"
   ]
  },
  {
   "cell_type": "code",
   "execution_count": 0,
   "metadata": {
    "application/vnd.databricks.v1+cell": {
     "cellMetadata": {
      "byteLimit": 2048000,
      "rowLimit": 10000
     },
     "inputWidgets": {},
     "nuid": "86571872-5fd9-4ba6-be81-a30d46410b8a",
     "showTitle": false,
     "tableResultSettingsMap": {},
     "title": ""
    }
   },
   "outputs": [],
   "source": [
    "import pandas as pd\n",
    "import numpy as np\n",
    "import seaborn as sns\n",
    "import matplotlib.pyplot as plt\n",
    "import warnings\n",
    "from sklearn.model_selection import train_test_split, cross_val_score, StratifiedKFold\n",
    "from sklearn.preprocessing import StandardScaler, OrdinalEncoder\n",
    "from sklearn.impute import SimpleImputer\n",
    "from sklearn.compose import ColumnTransformer\n",
    "from sklearn.pipeline import Pipeline\n",
    "from sklearn.ensemble import RandomForestClassifier, VotingClassifier\n",
    "from sklearn.linear_model import LogisticRegression\n",
    "from sklearn.neural_network import MLPClassifier\n",
    "from xgboost import XGBClassifier\n",
    "import lightgbm as lgb\n",
    "from sklearn.feature_selection import RFECV\n",
    "from sklearn.utils.class_weight import compute_sample_weight\n",
    "from sklearn.metrics import (roc_auc_score, classification_report, \n",
    "                           confusion_matrix, precision_recall_curve, \n",
    "                           average_precision_score, roc_curve)\n",
    "import optuna\n",
    "warnings.filterwarnings('ignore')\n",
    "optuna.logging.set_verbosity(optuna.logging.WARNING)"
   ]
  },
  {
   "cell_type": "code",
   "execution_count": 0,
   "metadata": {
    "application/vnd.databricks.v1+cell": {
     "cellMetadata": {
      "byteLimit": 2048000,
      "rowLimit": 10000
     },
     "inputWidgets": {},
     "nuid": "8d327de3-99d1-4cf5-be72-ab3b2bee2733",
     "showTitle": false,
     "tableResultSettingsMap": {},
     "title": ""
    }
   },
   "outputs": [],
   "source": [
    "df = pd.read_csv('/Workspace/Users/nagahamasami@gmail.com/creditas-case/data/processed/clean-dataset.csv')\n",
    "df.head()"
   ]
  },
  {
   "cell_type": "code",
   "execution_count": 0,
   "metadata": {
    "application/vnd.databricks.v1+cell": {
     "cellMetadata": {
      "byteLimit": 2048000,
      "rowLimit": 10000
     },
     "inputWidgets": {},
     "nuid": "2ab91f65-a6e0-42a5-9021-19716cb9402a",
     "showTitle": false,
     "tableResultSettingsMap": {},
     "title": ""
    }
   },
   "outputs": [],
   "source": [
    "plt.style.use('seaborn-v0_8')\n",
    "sns.set_palette(\"husl\")"
   ]
  },
  {
   "cell_type": "markdown",
   "metadata": {
    "application/vnd.databricks.v1+cell": {
     "cellMetadata": {},
     "inputWidgets": {},
     "nuid": "660fe08c-291e-413b-bf96-97acaadfebeb",
     "showTitle": false,
     "tableResultSettingsMap": {},
     "title": ""
    }
   },
   "source": [
    "# Remoção de valores nulos"
   ]
  },
  {
   "cell_type": "code",
   "execution_count": 0,
   "metadata": {
    "application/vnd.databricks.v1+cell": {
     "cellMetadata": {
      "byteLimit": 2048000,
      "rowLimit": 10000
     },
     "inputWidgets": {},
     "nuid": "82ca350e-e841-4e45-999a-a7e95e15dc7e",
     "showTitle": false,
     "tableResultSettingsMap": {},
     "title": ""
    }
   },
   "outputs": [],
   "source": [
    "initial_rows = len(df)\n",
    "df.dropna(inplace=True)\n",
    "final_rows = len(df)\n",
    "print(f\"Removendo valores nulos. {initial_rows - final_rows} linhas removidas ({((initial_rows - final_rows) / initial_rows):.2%} do dataset).\")"
   ]
  },
  {
   "cell_type": "markdown",
   "metadata": {
    "application/vnd.databricks.v1+cell": {
     "cellMetadata": {},
     "inputWidgets": {},
     "nuid": "b1cbae69-1ada-4e3a-b6cf-e8213ee48046",
     "showTitle": false,
     "tableResultSettingsMap": {},
     "title": ""
    }
   },
   "source": [
    "# Feature Engineering"
   ]
  },
  {
   "cell_type": "code",
   "execution_count": 0,
   "metadata": {
    "application/vnd.databricks.v1+cell": {
     "cellMetadata": {
      "byteLimit": 2048000,
      "rowLimit": 10000
     },
     "inputWidgets": {},
     "nuid": "1e4ec535-ea3c-42a9-9725-30b3ca0372c9",
     "showTitle": false,
     "tableResultSettingsMap": {},
     "title": ""
    }
   },
   "outputs": [],
   "source": [
    "def feature_engineering(df):\n",
    "    debt_columns = ['dishonored_checks', 'expired_debts', 'banking_debts', \n",
    "                   'commercial_debts', 'protests', 'verified_restriction', \n",
    "                   'informed_restriction']\n",
    "    \n",
    "    df['total_debts'] = df[debt_columns].sum(axis=1)\n",
    "    df['has_any_debt'] = (df['total_debts'] > 0).astype(int)\n",
    "    df['multiple_debts'] = (df['total_debts'] > 1).astype(int)\n",
    "    \n",
    "    df['loan_to_income_ratio'] = df['loan_amount'] / (df['monthly_income'] + 1e-6)\n",
    "    df['loan_to_value_ratio'] = df['loan_amount'] / (df['collateral_value'] + 1e-6)\n",
    "    df['income_to_value_ratio'] = df['monthly_income'] / (df['collateral_value'] + 1e-6)\n",
    "    \n",
    "    df['car_age'] = 2017 - df['auto_year']  \n",
    "    df['is_old_car'] = (df['car_age'] > 10).astype(int)\n",
    "    \n",
    "    df['high_loan_request'] = (df['loan_amount'] > df['loan_amount'].median()).astype(int)\n",
    "    df['low_income_high_loan'] = ((df['loan_to_income_ratio'] > 2) & \n",
    "                                (df['monthly_income'] < df['monthly_income'].median())).astype(int)\n",
    "    \n",
    "    return df"
   ]
  },
  {
   "cell_type": "code",
   "execution_count": 0,
   "metadata": {
    "application/vnd.databricks.v1+cell": {
     "cellMetadata": {
      "byteLimit": 2048000,
      "rowLimit": 10000
     },
     "inputWidgets": {},
     "nuid": "a891cc98-db52-46c1-9c28-81a6f49e89f0",
     "showTitle": false,
     "tableResultSettingsMap": {},
     "title": ""
    }
   },
   "outputs": [],
   "source": [
    "df = feature_engineering(df)\n",
    "print(\"Feature engineering aplicado com sucesso!\")\n",
    "print(f\"Número de features após engineering: {len(df.columns)}\")"
   ]
  },
  {
   "cell_type": "markdown",
   "metadata": {
    "application/vnd.databricks.v1+cell": {
     "cellMetadata": {},
     "inputWidgets": {},
     "nuid": "1d9ac659-669b-4f3a-b2b5-0d5db9fb4421",
     "showTitle": false,
     "tableResultSettingsMap": {},
     "title": ""
    }
   },
   "source": [
    "# Pré-processamento"
   ]
  },
  {
   "cell_type": "code",
   "execution_count": 0,
   "metadata": {
    "application/vnd.databricks.v1+cell": {
     "cellMetadata": {
      "byteLimit": 2048000,
      "rowLimit": 10000
     },
     "inputWidgets": {},
     "nuid": "caf643d1-2098-4188-9421-d2b62713b46d",
     "showTitle": false,
     "tableResultSettingsMap": {},
     "title": ""
    }
   },
   "outputs": [],
   "source": [
    "TARGET = 'sent_to_analysis'\n",
    "\n",
    "# Features a serem excluídas (baseadas na análise de domínio)\n",
    "excluded_features = [\n",
    "    'id',  # Identificador único\n",
    "    'pre_approved',  # Já filtramos por isso\n",
    "    'zip_code',  # Muita cardinalidade, precisaria de encoding especial\n",
    "    'auto_model',  # Muita cardinalidade\n",
    "    'landing_page',  # Variável operacional\n",
    "    'landing_page_product'  # Variável operacional\n",
    "\n",
    "]"
   ]
  },
  {
   "cell_type": "code",
   "execution_count": 0,
   "metadata": {
    "application/vnd.databricks.v1+cell": {
     "cellMetadata": {
      "byteLimit": 2048000,
      "rowLimit": 10000
     },
     "inputWidgets": {},
     "nuid": "e30cb2ea-4b9c-4425-a00c-baf3d3977337",
     "showTitle": false,
     "tableResultSettingsMap": {},
     "title": ""
    }
   },
   "outputs": [],
   "source": [
    "y = df[TARGET]\n",
    "X = df.drop(columns=[TARGET] + excluded_features)"
   ]
  },
  {
   "cell_type": "code",
   "execution_count": 0,
   "metadata": {
    "application/vnd.databricks.v1+cell": {
     "cellMetadata": {
      "byteLimit": 2048000,
      "rowLimit": 10000
     },
     "inputWidgets": {},
     "nuid": "e0b6d23e-1886-49cd-8b7b-2d36408d95ac",
     "showTitle": false,
     "tableResultSettingsMap": {},
     "title": ""
    }
   },
   "outputs": [],
   "source": [
    "numeric_features = X.select_dtypes(include=[np.number]).columns.tolist()\n",
    "categorical_features = X.select_dtypes(include=['object']).columns.tolist()"
   ]
  },
  {
   "cell_type": "code",
   "execution_count": 0,
   "metadata": {
    "application/vnd.databricks.v1+cell": {
     "cellMetadata": {
      "byteLimit": 2048000,
      "rowLimit": 10000
     },
     "inputWidgets": {},
     "nuid": "b832e618-5d34-49ed-9371-6a52933d0552",
     "showTitle": false,
     "tableResultSettingsMap": {},
     "title": ""
    }
   },
   "outputs": [],
   "source": [
    "print(f\"Features numéricas ({len(numeric_features)}): {numeric_features}\")\n",
    "print(f\"Features categóricas ({len(categorical_features)}): {categorical_features}\")"
   ]
  },
  {
   "cell_type": "code",
   "execution_count": 0,
   "metadata": {
    "application/vnd.databricks.v1+cell": {
     "cellMetadata": {
      "byteLimit": 2048000,
      "rowLimit": 10000
     },
     "inputWidgets": {},
     "nuid": "0bc6515a-fa40-49a7-be1c-911795924774",
     "showTitle": false,
     "tableResultSettingsMap": {},
     "title": ""
    }
   },
   "outputs": [],
   "source": [
    "X_train, X_test, y_train, y_test = train_test_split(\n",
    "    X, y, \n",
    "    test_size=0.2, \n",
    "    random_state=42, \n",
    "    stratify=y\n",
    ")"
   ]
  },
  {
   "cell_type": "code",
   "execution_count": 0,
   "metadata": {
    "application/vnd.databricks.v1+cell": {
     "cellMetadata": {
      "byteLimit": 2048000,
      "rowLimit": 10000
     },
     "inputWidgets": {},
     "nuid": "76e8df3e-ab52-4a80-a992-f12803de7443",
     "showTitle": false,
     "tableResultSettingsMap": {},
     "title": ""
    }
   },
   "outputs": [],
   "source": [
    "print(f\"Treino: {X_train.shape[0]} amostras\")\n",
    "print(f\"Teste: {X_test.shape[0]} amostras\")\n",
    "print(f\"Proporção target treino: {y_train.mean():.2%}\")\n",
    "print(f\"Proporção target teste: {y_test.mean():.2%}\")"
   ]
  },
  {
   "cell_type": "code",
   "execution_count": 0,
   "metadata": {
    "application/vnd.databricks.v1+cell": {
     "cellMetadata": {
      "byteLimit": 2048000,
      "rowLimit": 10000
     },
     "inputWidgets": {},
     "nuid": "7a9b808d-ed28-4a04-b4cd-bdaf8cd51f6e",
     "showTitle": false,
     "tableResultSettingsMap": {},
     "title": ""
    }
   },
   "outputs": [],
   "source": [
    "numeric_transformer = Pipeline(steps=[\n",
    "    ('imputer', SimpleImputer(strategy='median')),\n",
    "    ('scaler', StandardScaler())\n",
    "])"
   ]
  },
  {
   "cell_type": "code",
   "execution_count": 0,
   "metadata": {
    "application/vnd.databricks.v1+cell": {
     "cellMetadata": {
      "byteLimit": 2048000,
      "rowLimit": 10000
     },
     "inputWidgets": {},
     "nuid": "32ea2283-20c1-4a2e-9ebb-326b5e37f5fa",
     "showTitle": false,
     "tableResultSettingsMap": {},
     "title": ""
    }
   },
   "outputs": [],
   "source": [
    "categorical_transformer = Pipeline(steps=[\n",
    "    ('imputer', SimpleImputer(strategy='constant', fill_value='missing')),\n",
    "    ('encoder', OrdinalEncoder(handle_unknown='use_encoded_value', unknown_value=-1))\n",
    "])"
   ]
  },
  {
   "cell_type": "code",
   "execution_count": 0,
   "metadata": {
    "application/vnd.databricks.v1+cell": {
     "cellMetadata": {
      "byteLimit": 2048000,
      "rowLimit": 10000
     },
     "inputWidgets": {},
     "nuid": "5b299c33-a994-4777-a1d5-50336875d669",
     "showTitle": false,
     "tableResultSettingsMap": {},
     "title": ""
    }
   },
   "outputs": [],
   "source": [
    "preprocessor_full = ColumnTransformer(\n",
    "    transformers=[\n",
    "        ('num', numeric_transformer, numeric_features),\n",
    "        ('cat', categorical_transformer, categorical_features)\n",
    "    ],\n",
    "    remainder='passthrough'\n",
    ")"
   ]
  },
  {
   "cell_type": "markdown",
   "metadata": {
    "application/vnd.databricks.v1+cell": {
     "cellMetadata": {},
     "inputWidgets": {},
     "nuid": "a64d792d-2324-40c5-8718-310a899d5ab0",
     "showTitle": false,
     "tableResultSettingsMap": {},
     "title": ""
    }
   },
   "source": [
    "# Seleção de Features"
   ]
  },
  {
   "cell_type": "code",
   "execution_count": 0,
   "metadata": {
    "application/vnd.databricks.v1+cell": {
     "cellMetadata": {
      "byteLimit": 2048000,
      "rowLimit": 10000
     },
     "inputWidgets": {},
     "nuid": "b2e9e5cb-164f-4481-a704-a982acd64bae",
     "showTitle": false,
     "tableResultSettingsMap": {},
     "title": ""
    }
   },
   "outputs": [],
   "source": [
    "rfe_estimator = lgb.LGBMClassifier(random_state=42, class_weight='balanced')\n",
    "selector = RFECV(estimator=rfe_estimator, step=1, cv=StratifiedKFold(3), scoring='roc_auc', n_jobs=-1)\n",
    "feature_selection_pipeline = Pipeline(steps=[('preprocessor', preprocessor_full), ('selector', selector)])\n",
    "feature_selection_pipeline.fit(X_train, y_train)\n",
    "\n",
    "selected_mask = feature_selection_pipeline.named_steps['selector'].get_support()\n",
    "all_features = np.array(numeric_features + categorical_features)\n",
    "selected_feature_names = all_features[selected_mask].tolist()\n",
    "removed_mask = ~selected_mask\n",
    "removed_feature_names = all_features[removed_mask].tolist()\n",
    "print(\"Features selecionadas:\")\n",
    "print(selected_feature_names)\n",
    "print(\"\\nFeatures removidas:\")\n",
    "print(removed_feature_names)\n",
    "\n",
    "print(f\"Número ótimo de features selecionado: {len(selected_feature_names)}\")\n",
    "\n",
    "X_train_selected = X_train[selected_feature_names]\n",
    "X_test_selected = X_test[selected_feature_names]\n",
    "\n",
    "selected_numeric_features = [f for f in numeric_features if f in selected_feature_names]\n",
    "selected_categorical_features = [f for f in categorical_features if f in selected_feature_names]\n",
    "\n",
    "preprocessor_selected = ColumnTransformer(\n",
    "    transformers=[\n",
    "        ('num', numeric_transformer, selected_numeric_features),\n",
    "        ('cat', categorical_transformer, selected_categorical_features)\n",
    "    ]\n",
    ")\n"
   ]
  },
  {
   "cell_type": "markdown",
   "metadata": {
    "application/vnd.databricks.v1+cell": {
     "cellMetadata": {},
     "inputWidgets": {},
     "nuid": "1c893208-c256-472f-bb87-e6c43395d74e",
     "showTitle": false,
     "tableResultSettingsMap": {},
     "title": ""
    }
   },
   "source": [
    "# Otimização"
   ]
  },
  {
   "cell_type": "code",
   "execution_count": 0,
   "metadata": {
    "application/vnd.databricks.v1+cell": {
     "cellMetadata": {
      "byteLimit": 2048000,
      "rowLimit": 10000
     },
     "inputWidgets": {},
     "nuid": "b4eabd60-39ed-481f-8551-7687e90e8d91",
     "showTitle": false,
     "tableResultSettingsMap": {},
     "title": ""
    }
   },
   "outputs": [],
   "source": [
    "def objective(trial):\n",
    "    positive_class_weight_value = trial.suggest_float('positive_class_weight', 1.0, 10.0)\n",
    "    class_weights_dict = {0: 1, 1: positive_class_weight_value}\n",
    "\n",
    "    xgb_params = {'n_estimators': trial.suggest_int('xgb_n_estimators', 100, 500), 'max_depth': trial.suggest_int('xgb_max_depth', 3, 8), 'learning_rate': trial.suggest_float('xgb_learning_rate', 0.01, 0.2), 'scale_pos_weight': positive_class_weight_value}\n",
    "    lgbm_params = {'n_estimators': trial.suggest_int('lgbm_n_estimators', 100, 500), 'max_depth': trial.suggest_int('lgbm_max_depth', 3, 8), 'learning_rate': trial.suggest_float('lgbm_learning_rate', 0.01, 0.2), 'num_leaves': trial.suggest_int('lgbm_num_leaves', 20, 100), 'scale_pos_weight': positive_class_weight_value}\n",
    "    rf_params = {'n_estimators': trial.suggest_int('rf_n_estimators', 50, 300), 'max_depth': trial.suggest_int('rf_max_depth', 5, 15), 'class_weight': class_weights_dict}\n",
    "    lr_params = {'C': trial.suggest_float('lr_C', 1e-3, 1e2, log=True), 'solver': 'liblinear'}\n",
    "    \n",
    "    mlp_params = {'hidden_layer_sizes': trial.suggest_categorical('mlp_hidden_layers', [(50, 25), (100,), (100, 50)]), 'activation': 'relu', 'alpha': trial.suggest_float('mlp_alpha', 1e-5, 1e-1, log=True), 'learning_rate_init': trial.suggest_float('mlp_lr_init', 1e-4, 1e-2, log=True), 'max_iter': 300}\n",
    "\n",
    "    ensemble = VotingClassifier(\n",
    "        estimators=[\n",
    "            ('xgboost', XGBClassifier(random_state=42, eval_metric='logloss', **xgb_params)),\n",
    "            ('lightgbm', lgb.LGBMClassifier(random_state=42, verbosity=-1, **lgbm_params)),\n",
    "            ('random_forest', RandomForestClassifier(random_state=42, **rf_params)),\n",
    "            ('logistic', LogisticRegression(random_state=42, class_weight=class_weights_dict, **lr_params, max_iter=1000)),\n",
    "            ('mlp', MLPClassifier(random_state=42, **mlp_params))\n",
    "        ],\n",
    "        voting='soft'\n",
    "    )\n",
    "    \n",
    "    model_pipeline = Pipeline(steps=[('preprocessor', preprocessor_selected), ('classifier', ensemble)])\n",
    "    \n",
    "    score = cross_val_score(model_pipeline, X_train_selected, y_train, \n",
    "                            cv=StratifiedKFold(5), \n",
    "                            scoring='average_precision', \n",
    "                            n_jobs=-1)\n",
    "    \n",
    "    return score.mean()"
   ]
  },
  {
   "cell_type": "code",
   "execution_count": 0,
   "metadata": {
    "application/vnd.databricks.v1+cell": {
     "cellMetadata": {
      "byteLimit": 2048000,
      "rowLimit": 10000
     },
     "inputWidgets": {},
     "nuid": "10efdb9e-ab35-49b6-8d07-6e3e5ef81342",
     "showTitle": false,
     "tableResultSettingsMap": {},
     "title": ""
    }
   },
   "outputs": [],
   "source": [
    "study = optuna.create_study(direction='maximize')\n",
    "study.optimize(objective, n_trials=50, timeout=600) \n",
    "\n",
    "print(\"\\nOtimização concluída!\")\n",
    "print(f\"Melhor score (Average Precision) na validação: {study.best_value:.4f}\")\n",
    "best_params = study.best_params"
   ]
  },
  {
   "cell_type": "markdown",
   "metadata": {
    "application/vnd.databricks.v1+cell": {
     "cellMetadata": {},
     "inputWidgets": {},
     "nuid": "46b56912-da0b-4965-88bf-cb9647d153a6",
     "showTitle": false,
     "tableResultSettingsMap": {},
     "title": ""
    }
   },
   "source": [
    "# Treinamento"
   ]
  },
  {
   "cell_type": "code",
   "execution_count": 0,
   "metadata": {
    "application/vnd.databricks.v1+cell": {
     "cellMetadata": {
      "byteLimit": 2048000,
      "rowLimit": 10000
     },
     "inputWidgets": {},
     "nuid": "ed047a6a-71b9-4c22-937f-22446ca29e13",
     "showTitle": false,
     "tableResultSettingsMap": {},
     "title": ""
    }
   },
   "outputs": [],
   "source": [
    "final_pos_weight = best_params['positive_class_weight']\n",
    "final_class_weights_dict = {0: 1, 1: final_pos_weight}\n",
    "\n",
    "final_xgb = XGBClassifier(random_state=42, eval_metric='logloss', scale_pos_weight=final_pos_weight, n_estimators=best_params['xgb_n_estimators'], max_depth=best_params['xgb_max_depth'], learning_rate=best_params['xgb_learning_rate'])\n",
    "final_lgbm = lgb.LGBMClassifier(random_state=42, verbosity=-1, scale_pos_weight=final_pos_weight, n_estimators=best_params['lgbm_n_estimators'], max_depth=best_params['lgbm_max_depth'], learning_rate=best_params['lgbm_learning_rate'], num_leaves=best_params['lgbm_num_leaves'])\n",
    "final_rf = RandomForestClassifier(random_state=42, class_weight=final_class_weights_dict, n_estimators=best_params['rf_n_estimators'], max_depth=best_params['rf_max_depth'])\n",
    "final_lr = LogisticRegression(random_state=42, class_weight=final_class_weights_dict, C=best_params['lr_C'], solver='liblinear', max_iter=1000)\n",
    "final_mlp = MLPClassifier(random_state=42, hidden_layer_sizes=best_params['mlp_hidden_layers'], activation='relu', alpha=best_params['mlp_alpha'], learning_rate_init=best_params['mlp_lr_init'], max_iter=300)\n",
    "\n",
    "final_ensemble = VotingClassifier(\n",
    "    estimators=[\n",
    "        ('xgboost', final_xgb), \n",
    "        ('lightgbm', final_lgbm), \n",
    "        ('random_forest', final_rf), \n",
    "        ('logistic', final_lr), \n",
    "        ('mlp', final_mlp)\n",
    "    ], \n",
    "    voting='soft'\n",
    ")\n",
    "final_pipeline_optimized = Pipeline(steps=[('preprocessor', preprocessor_selected), ('classifier', final_ensemble)])\n",
    "final_pipeline_optimized.fit(X_train_selected, y_train)"
   ]
  },
  {
   "cell_type": "markdown",
   "metadata": {
    "application/vnd.databricks.v1+cell": {
     "cellMetadata": {},
     "inputWidgets": {},
     "nuid": "3838c6d5-405b-4ec8-b1a2-4a63a8fe9647",
     "showTitle": false,
     "tableResultSettingsMap": {},
     "title": ""
    }
   },
   "source": [
    "# Avaliação"
   ]
  },
  {
   "cell_type": "code",
   "execution_count": 0,
   "metadata": {
    "application/vnd.databricks.v1+cell": {
     "cellMetadata": {
      "byteLimit": 2048000,
      "rowLimit": 10000
     },
     "inputWidgets": {},
     "nuid": "bb30b865-e35d-4e38-8656-e226626832ba",
     "showTitle": false,
     "tableResultSettingsMap": {},
     "title": ""
    }
   },
   "outputs": [],
   "source": [
    "def evaluate_model(model, X_test, y_test):\n",
    "    y_pred = model.predict(X_test)\n",
    "    y_pred_proba = model.predict_proba(X_test)[:, 1]\n",
    "    auc_score = roc_auc_score(y_test, y_pred_proba)\n",
    "    ap_score = average_precision_score(y_test, y_pred_proba)\n",
    "    print(\"\\n=== AVALIAÇÃO DO MODELO FINAL ===\")\n",
    "    print(f\"AUC-ROC: {auc_score:.4f}\")\n",
    "    print(f\"Average Precision: {ap_score:.4f}\")\n",
    "    print(\"\\nRelatório de Classificação:\")\n",
    "    print(classification_report(y_test, y_pred))\n",
    "    fig, axes = plt.subplots(1, 2, figsize=(14, 6))\n",
    "    cm = confusion_matrix(y_test, y_pred)\n",
    "    sns.heatmap(cm, annot=True, fmt='d', cmap='Blues', ax=axes[0])\n",
    "    axes[0].set_title('Matriz de Confusão')\n",
    "    fpr, tpr, _ = roc_curve(y_test, y_pred_proba)\n",
    "    axes[1].plot(fpr, tpr, label=f'AUC = {auc_score:.3f}')\n",
    "    axes[1].plot([0, 1], [0, 1], 'k--')\n",
    "    axes[1].set_title('Curva ROC')\n",
    "    axes[1].legend()\n",
    "    plt.tight_layout()\n",
    "    plt.show()\n",
    "\n",
    "evaluate_model(final_pipeline_optimized, X_test_selected, y_test)\n"
   ]
  },
  {
   "cell_type": "markdown",
   "metadata": {
    "application/vnd.databricks.v1+cell": {
     "cellMetadata": {},
     "inputWidgets": {},
     "nuid": "613e018b-a4bf-4942-8387-919dd3f763be",
     "showTitle": false,
     "tableResultSettingsMap": {},
     "title": ""
    }
   },
   "source": [
    "# Fila de prioridade"
   ]
  },
  {
   "cell_type": "code",
   "execution_count": 0,
   "metadata": {
    "application/vnd.databricks.v1+cell": {
     "cellMetadata": {
      "byteLimit": 2048000,
      "rowLimit": 10000
     },
     "inputWidgets": {},
     "nuid": "e9ff8a45-7c27-40dc-82d4-51a63a94740d",
     "showTitle": false,
     "tableResultSettingsMap": {},
     "title": ""
    }
   },
   "outputs": [],
   "source": [
    "def generate_priority_queue(model, X_data, original_data_indices):\n",
    "    probabilities = model.predict_proba(X_data)[:, 1]\n",
    "    priority_df = pd.DataFrame({'client_id': original_data_indices, 'probability_score': probabilities})\n",
    "    priority_df_sorted = priority_df.sort_values(by='probability_score', ascending=False).reset_index(drop=True)\n",
    "    return priority_df_sorted\n",
    "\n",
    "priority_list = generate_priority_queue(final_pipeline_optimized, X_test_selected, X_test.index)\n",
    "print(\"Top 15 clientes para contato prioritário:\")\n",
    "print(priority_list.head(15))"
   ]
  },
  {
   "cell_type": "markdown",
   "metadata": {
    "application/vnd.databricks.v1+cell": {
     "cellMetadata": {},
     "inputWidgets": {},
     "nuid": "0535cfc5-343a-4612-bbf6-58041b6aa77f",
     "showTitle": false,
     "tableResultSettingsMap": {},
     "title": ""
    }
   },
   "source": [
    "# Feature Importance (por modelo)"
   ]
  },
  {
   "cell_type": "code",
   "execution_count": 0,
   "metadata": {
    "application/vnd.databricks.v1+cell": {
     "cellMetadata": {
      "byteLimit": 2048000,
      "rowLimit": 10000
     },
     "inputWidgets": {},
     "nuid": "4a16e2b4-8eea-43c0-a9bd-5798bc3d3b58",
     "showTitle": false,
     "tableResultSettingsMap": {},
     "title": ""
    }
   },
   "outputs": [],
   "source": [
    "def plot_feature_importance(model, feature_names, model_name):\n",
    "    if hasattr(model, 'feature_importances_'):\n",
    "        importances = model.feature_importances_\n",
    "    elif hasattr(model, 'coef_'):\n",
    "        importances = np.abs(model.coef_[0])\n",
    "    else:\n",
    "        print(f\"Cannot get feature importance for {model_name}. Skipping.\")\n",
    "        return\n",
    "        \n",
    "    importance_df = pd.DataFrame({\n",
    "        'Feature': feature_names,\n",
    "        'Importance': importances\n",
    "    }).sort_values(by='Importance', ascending=False)\n",
    "\n",
    "    plt.figure(figsize=(10, 8))\n",
    "    sns.barplot(x='Importance', y='Feature', data=importance_df.head(20)) # Plot top 20\n",
    "    plt.title(f'Feature Importance for {model_name}')\n",
    "    plt.tight_layout()\n",
    "    plt.show()"
   ]
  },
  {
   "cell_type": "code",
   "execution_count": 0,
   "metadata": {
    "application/vnd.databricks.v1+cell": {
     "cellMetadata": {
      "byteLimit": 2048000,
      "rowLimit": 10000
     },
     "inputWidgets": {},
     "nuid": "e1176ed2-4787-450d-a131-c7332a487098",
     "showTitle": false,
     "tableResultSettingsMap": {},
     "title": ""
    }
   },
   "outputs": [],
   "source": [
    "feature_names = selected_feature_names \n",
    "trained_estimators = final_pipeline_optimized.named_steps['classifier'].estimators_\n",
    "estimator_names = [est[0] for est in final_ensemble.estimators]\n",
    "for name, model in zip(estimator_names, trained_estimators):\n",
    "    print(f\"\\n--- Analyzing: {name} ---\")\n",
    "    plot_feature_importance(model, feature_names, name.replace('_', ' ').title())"
   ]
  },
  {
   "cell_type": "markdown",
   "metadata": {
    "application/vnd.databricks.v1+cell": {
     "cellMetadata": {},
     "inputWidgets": {},
     "nuid": "3dd9f45f-8190-4e0c-abd8-218771f79937",
     "showTitle": false,
     "tableResultSettingsMap": {},
     "title": ""
    }
   },
   "source": [
    "# Análise de impacto no negócio"
   ]
  },
  {
   "cell_type": "code",
   "execution_count": 0,
   "metadata": {
    "application/vnd.databricks.v1+cell": {
     "cellMetadata": {
      "byteLimit": 2048000,
      "rowLimit": 10000
     },
     "inputWidgets": {},
     "nuid": "5f94c2b7-d5c0-4bd2-a301-9282ce6479fe",
     "showTitle": false,
     "tableResultSettingsMap": {},
     "title": ""
    }
   },
   "outputs": [],
   "source": [
    "def business_impact_analysis(model, X_test, y_test):    \n",
    "    y_pred_proba = model.predict_proba(X_test)[:, 1]\n",
    "    \n",
    "    thresholds = np.arange(0.1, 1.0, 0.1)\n",
    "    results = []\n",
    "    \n",
    "    for threshold in thresholds:\n",
    "        y_pred = (y_pred_proba >= threshold).astype(int)\n",
    "        cm = confusion_matrix(y_test, y_pred)\n",
    "        tn, fp, fn, tp = cm.ravel()\n",
    "        \n",
    "        cost_fp = 100  # Custo de análise desnecessária\n",
    "        cost_fn = 500  # Custo de perder um bom cliente\n",
    "        benefit_tp = 300  # Benefício de acertar um bom cliente\n",
    "        \n",
    "        total_cost = (fp * cost_fp) + (fn * cost_fn) - (tp * benefit_tp)\n",
    "        analysis_rate = (tp + fp) / len(y_test) \n",
    "        \n",
    "        results.append({\n",
    "            'threshold': threshold,\n",
    "            'cost': total_cost,\n",
    "            'analysis_rate': analysis_rate,\n",
    "            'precision': tp / (tp + fp) if (tp + fp) > 0 else 0,\n",
    "            'recall': tp / (tp + fn) if (tp + fn) > 0 else 0\n",
    "        })\n",
    "    \n",
    "    results_df = pd.DataFrame(results)\n",
    "    \n",
    "    # Encontrar threshold ótimo\n",
    "    optimal_threshold = results_df.loc[results_df['cost'].idxmin(), 'threshold']\n",
    "    \n",
    "    print(f\"Threshold ótimo: {optimal_threshold:.2f}\")\n",
    "    print(f\"Custo mínimo: R$ {results_df['cost'].min():,.0f}\")\n",
    "    \n",
    "    # Gráfico de trade-off\n",
    "    fig, axes = plt.subplots(1, 2, figsize=(15, 5))\n",
    "    \n",
    "    # Custo vs Threshold\n",
    "    axes[0].plot(results_df['threshold'], results_df['cost'])\n",
    "    axes[0].axvline(optimal_threshold, color='red', linestyle='--', \n",
    "                   label=f'Ótimo: {optimal_threshold:.2f}')\n",
    "    axes[0].set_xlabel('Threshold')\n",
    "    axes[0].set_ylabel('Custo Total')\n",
    "    axes[0].set_title('Custo vs Threshold')\n",
    "    axes[0].legend()\n",
    "    axes[0].grid(True)\n",
    "    \n",
    "    # Trade-off Precision-Recall\n",
    "    axes[1].plot(results_df['recall'], results_df['precision'])\n",
    "    axes[1].set_xlabel('Recall')\n",
    "    axes[1].set_ylabel('Precision')\n",
    "    axes[1].set_title('Trade-off Precision-Recall')\n",
    "    axes[1].grid(True)\n",
    "    \n",
    "    plt.tight_layout()\n",
    "    plt.show()\n",
    "    \n",
    "    return optimal_threshold, results_df\n",
    "\n",
    "optimal_threshold, business_results = business_impact_analysis(final_pipeline_optimized, X_test, y_test)"
   ]
  },
  {
   "cell_type": "code",
   "execution_count": 0,
   "metadata": {
    "application/vnd.databricks.v1+cell": {
     "cellMetadata": {
      "byteLimit": 2048000,
      "rowLimit": 10000
     },
     "inputWidgets": {},
     "nuid": "2b8f63cd-8033-4e0d-81cd-b7259987eb60",
     "showTitle": false,
     "tableResultSettingsMap": {},
     "title": ""
    }
   },
   "outputs": [],
   "source": [
    "y_pred_proba = final_pipeline_optimized.predict_proba(X_test_selected)[:, 1]\n",
    "ml_model_auc = roc_auc_score(y_test, y_pred_proba)\n",
    "\n",
    "def benchmark_comparison(X_test_data, y_test_data, ml_auc_score):\n",
    "    \n",
    "    random_probs = np.random.random(len(y_test_data))\n",
    "    auc_random = roc_auc_score(y_test_data, random_probs)\n",
    "    income_priority = X_test_data['monthly_income'].values\n",
    "    auc_income = roc_auc_score(y_test_data, income_priority)\n",
    "    loan_priority = -X_test_data['loan_amount'].values\n",
    "    auc_loan = roc_auc_score(y_test_data, loan_priority)\n",
    "    ltv_priority = -X_test_data['loan_to_value_ratio'].values\n",
    "    auc_ltv = roc_auc_score(y_test_data, ltv_priority)\n",
    "    \n",
    "    benchmarks = {\n",
    "        'Modelo ML': ml_auc_score,\n",
    "        'Aleatório': auc_random,\n",
    "        'Prioridade Renda': auc_income,\n",
    "        'Prioridade Valor Empréstimo': auc_loan,\n",
    "        'Prioridade LTV': auc_ltv\n",
    "    }\n",
    "    \n",
    "    print(\"=== COMPARAÇÃO COM BENCHMARKS (AUC Score) ===\")\n",
    "    for method, score in benchmarks.items():\n",
    "        print(f\"{method}: {score:.4f}\")\n",
    "    \n",
    "    plt.figure(figsize=(10, 6))\n",
    "    methods = list(benchmarks.keys())\n",
    "    scores = list(benchmarks.values())\n",
    "    colors = ['#4CAF50' if x == 'Modelo ML' else '#2196F3' for x in methods]\n",
    "    bars = plt.bar(methods, scores, color=colors)\n",
    "    plt.axhline(y=0.5, color='red', linestyle='--', label='Baseline Aleatório (0.5)')\n",
    "    plt.ylabel('AUC Score')\n",
    "    plt.title('Comparação de Performance: Modelo ML vs. Benchmarks')\n",
    "    plt.xticks(rotation=45, ha=\"right\")\n",
    "    \n",
    "    for bar in bars:\n",
    "        yval = bar.get_height()\n",
    "        plt.text(bar.get_x() + bar.get_width()/2.0, yval + 0.01, f'{yval:.3f}', ha='center', va='bottom')\n",
    "    \n",
    "    plt.ylim(0, max(scores) * 1.15) \n",
    "    plt.legend()\n",
    "    plt.tight_layout()\n",
    "    plt.show()\n",
    "    \n",
    "    return benchmarks\n",
    "\n",
    "benchmarks = benchmark_comparison(X_test, y_test, ml_model_auc)"
   ]
  },
  {
   "cell_type": "code",
   "execution_count": 0,
   "metadata": {
    "application/vnd.databricks.v1+cell": {
     "cellMetadata": {
      "byteLimit": 2048000,
      "rowLimit": 10000
     },
     "inputWidgets": {},
     "nuid": "f1a196ca-3611-47e4-bcf9-755dbe4ab908",
     "showTitle": false,
     "tableResultSettingsMap": {},
     "title": ""
    }
   },
   "outputs": [],
   "source": [
    "importance_df = display_feature_importance(final_pipeline, X_train_selected)"
   ]
  },
  {
   "cell_type": "code",
   "execution_count": 0,
   "metadata": {
    "application/vnd.databricks.v1+cell": {
     "cellMetadata": {
      "byteLimit": 2048000,
      "rowLimit": 10000
     },
     "inputWidgets": {},
     "nuid": "eefe36e2-ac19-4b8c-b4fe-bc03da0fd1d9",
     "showTitle": false,
     "tableResultSettingsMap": {},
     "title": ""
    }
   },
   "outputs": [],
   "source": [
    "def production_monitoring_plan():\n",
    "    \"\"\"Plano de monitoramento do modelo em produção\"\"\"\n",
    "    \n",
    "    print(\"=== PLANO DE MONITORAMENTO EM PRODUÇÃO ===\")\n",
    "    \n",
    "    metrics = {\n",
    "        'Métricas de Performance': [\n",
    "            'AUC-ROC semanal',\n",
    "            'Precision/Recall por faixa de score',\n",
    "            'KS Statistic',\n",
    "            'Gini Coefficient'\n",
    "        ],\n",
    "        'Métricas de Data Quality': [\n",
    "            'Distribuição das features de entrada',\n",
    "            'Taxa de valores missing',\n",
    "            'Detecção de drift de dados',\n",
    "            'Monitoramento de outliers'\n",
    "        ],\n",
    "        'Métricas de Business': [\n",
    "            'Taxa de conversão por faixa de score',\n",
    "            'Custo-benefício real vs esperado',\n",
    "            'Satisfação do cliente',\n",
    "            'Tempo médio de análise'\n",
    "        ],\n",
    "        'Alertas Automatizados': [\n",
    "            'Queda de performance > 5%',\n",
    "            'Drift significativo nas features',\n",
    "            'Mudança na distribuição do target',\n",
    "            'Aumento de falsos positivos/negativos'\n",
    "        ]\n",
    "    }\n",
    "    \n",
    "    for category, items in metrics.items():\n",
    "        print(f\"\\n{category}:\")\n",
    "        for item in items:\n",
    "            print(f\"  • {item}\")\n",
    "    \n",
    "    # Sugestão de frequência de retreinamento\n",
    "    print(f\"\\n=== FREQUÊNCIA DE RETREINAMENTO ===\")\n",
    "    print(\"• Retreinamento completo: Trimestral\")\n",
    "    print(\"• Ajuste de hyperparâmetros: Mensal\")\n",
    "    print(\"• Validação de performance: Semanal\")\n",
    "    print(\"• Monitoramento contínuo: Diário\")\n",
    "\n",
    "production_monitoring_plan()"
   ]
  },
  {
   "cell_type": "code",
   "execution_count": 0,
   "metadata": {
    "application/vnd.databricks.v1+cell": {
     "cellMetadata": {
      "byteLimit": 2048000,
      "rowLimit": 10000
     },
     "inputWidgets": {},
     "nuid": "b7222170-ffe7-49d4-aac2-7e4fe5399ae3",
     "showTitle": false,
     "tableResultSettingsMap": {},
     "title": ""
    }
   },
   "outputs": [],
   "source": [
    "# Salvar modelo e metadados\n",
    "def save_final_model(model, X_train, importance_df, auc_score):\n",
    "    \"\"\"Salva o modelo final e metadados\"\"\"\n",
    "    \n",
    "    model_metadata = {\n",
    "        'model': model,\n",
    "        'features': X_train.columns.tolist(),\n",
    "        'feature_importance': importance_df.to_dict(),\n",
    "        'performance': {\n",
    "            'auc_score': auc_score,\n",
    "            'training_date': datetime.now().strftime(\"%Y-%m-%d %H:%M:%S\"),\n",
    "            'n_samples': len(X_train)\n",
    "        },\n",
    "        'preprocessing_steps': {\n",
    "            'numeric_features': numeric_features,\n",
    "            'categorical_features': categorical_features\n",
    "        }\n",
    "    }\n",
    "    \n",
    "    # Salvar modelo\n",
    "    timestamp = datetime.now().strftime(\"%Y%m%d_%H%M%S\")\n",
    "    filename = f'creditas_priority_model_{timestamp}.pkl'\n",
    "    joblib.dump(model_metadata, filename)\n",
    "    \n",
    "    print(f\"Modelo salvo como: {filename}\")\n",
    "    return filename\n",
    "\n",
    "# Salvar modelo final\n",
    "model_filename = save_final_model(final_pipeline, X_train, importance_df, auc_score)\n",
    "\n",
    "# Resumo final\n",
    "print(\"\\n\" + \"=\"*60)\n",
    "print(\"RESUMO EXECUTIVO DA SOLUÇÃO\")\n",
    "print(\"=\"*60)\n",
    "print(f\"🎯 PERFORMANCE DO MODELO: AUC = {auc_score:.4f}\")\n",
    "print(f\"📊 COMPARAÇÃO COM BENCHMARK: {auc_score - 0.5:.4f} acima do aleatório\")\n",
    "print(f\"🔧 FEATURES MAIS IMPORTANTES: {importance_df['feature'].iloc[0]}\")\n",
    "print(f\"💾 MODELO SALVO: {model_filename}\")\n",
    "print(f\"📈 IMPACTO ESPERADO: Redução de custos com threshold ótimo = {optimal_threshold:.2f}\")\n",
    "print(\"=\"*60)"
   ]
  },
  {
   "cell_type": "code",
   "execution_count": 0,
   "metadata": {
    "application/vnd.databricks.v1+cell": {
     "cellMetadata": {
      "byteLimit": 2048000,
      "rowLimit": 10000
     },
     "inputWidgets": {},
     "nuid": "8ef13c2b-9c21-4870-8883-f5d680f84749",
     "showTitle": false,
     "tableResultSettingsMap": {},
     "title": ""
    }
   },
   "outputs": [],
   "source": [
    "import pickle\n",
    "\n",
    "# Defina o nome do arquivo onde o modelo será salvo\n",
    "filename = 'modelo_ensemble.pkl'\n",
    "\n",
    "# Abra o arquivo em modo de escrita binária ('wb')\n",
    "with open(filename, 'wb') as file:\n",
    "    # Use pickle.dump para salvar o objeto pipeline no arquivo\n",
    "    pickle.dump(final_pipeline_optimized, file)\n",
    "\n",
    "print(f\"\\nModelo salvo com sucesso no arquivo: {filename}\")"
   ]
  }
 ],
 "metadata": {
  "application/vnd.databricks.v1+notebook": {
   "computePreferences": {
    "hardware": {
     "accelerator": null,
     "gpuPoolId": null,
     "memory": "HIGH"
    }
   },
   "dashboards": [],
   "environmentMetadata": {
    "base_environment": "",
    "environment_version": "3"
   },
   "inputWidgetPreferences": null,
   "language": "python",
   "notebookMetadata": {
    "pythonIndentUnit": 4
   },
   "notebookName": "Modelagem - ensemble",
   "widgets": {}
  },
  "language_info": {
   "name": "python"
  }
 },
 "nbformat": 4,
 "nbformat_minor": 0
}
